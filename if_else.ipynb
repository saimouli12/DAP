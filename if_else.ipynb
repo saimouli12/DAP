{
  "nbformat": 4,
  "nbformat_minor": 5,
  "metadata": {
    "kernelspec": {
      "display_name": "Python 3",
      "language": "python",
      "name": "python3"
    },
    "language_info": {
      "codemirror_mode": {
        "name": "ipython",
        "version": 3
      },
      "file_extension": ".py",
      "mimetype": "text/x-python",
      "name": "python",
      "nbconvert_exporter": "python",
      "pygments_lexer": "ipython3",
      "version": "3.8.8"
    },
    "colab": {
      "name": "if-else.ipynb",
      "provenance": [],
      "include_colab_link": true
    }
  },
  "cells": [
    {
      "cell_type": "markdown",
      "metadata": {
        "id": "view-in-github",
        "colab_type": "text"
      },
      "source": [
        "<a href=\"https://colab.research.google.com/github/saimouli12/DAP/blob/main/if_else.ipynb\" target=\"_parent\"><img src=\"https://colab.research.google.com/assets/colab-badge.svg\" alt=\"Open In Colab\"/></a>"
      ]
    },
    {
      "cell_type": "code",
      "metadata": {
        "id": "67a198ab",
        "outputId": "ba643270-d6fa-4d9d-8483-5104ecf74b83"
      },
      "source": [
        "    num = int(input(\"enter the number?\"))  \n",
        "    if num%2 == 0:  \n",
        "        print(\"Number is even\")\n",
        "    print(\"bye\")\n",
        "        "
      ],
      "id": "67a198ab",
      "execution_count": null,
      "outputs": [
        {
          "name": "stdout",
          "output_type": "stream",
          "text": [
            "enter the number?111\n",
            "bye\n"
          ]
        }
      ]
    },
    {
      "cell_type": "code",
      "metadata": {
        "id": "e81e7abc",
        "outputId": "ace18ac3-ef60-45aa-b237-71f1ba50c9eb"
      },
      "source": [
        "    a = int(input(\"Enter a- \"));  \n",
        "    b = int(input(\"Enter b- \"));  \n",
        "    c = int(input(\"Enter c- \"));  \n",
        "    if a>b and a>c:  \n",
        "        print(\"a is largest\");  \n",
        "    if b>a and b>c:  \n",
        "        print(\"b is largest\");  \n",
        "    if c>a and c>b:  \n",
        "        print(\"c is largest\");  "
      ],
      "id": "e81e7abc",
      "execution_count": null,
      "outputs": [
        {
          "name": "stdout",
          "output_type": "stream",
          "text": [
            "Enter a- 10\n",
            "Enter b- 20\n",
            "Enter c- 15\n",
            "b is largest\n"
          ]
        }
      ]
    },
    {
      "cell_type": "code",
      "metadata": {
        "id": "1c9aa697",
        "outputId": "90668068-fdbb-4dc3-87a1-aa78e3a735af"
      },
      "source": [
        "    age = int (input(\"Enter your age? \"))  \n",
        "    if age>=18:  \n",
        "        print(\"You are eligible to vote !!\");  \n",
        "    else:  \n",
        "        print(\"Sorry! you have to wait !!\");  "
      ],
      "id": "1c9aa697",
      "execution_count": null,
      "outputs": [
        {
          "name": "stdout",
          "output_type": "stream",
          "text": [
            "Enter your age? 23\n",
            "You are eligible to vote !!\n"
          ]
        }
      ]
    },
    {
      "cell_type": "code",
      "metadata": {
        "id": "0a328395",
        "outputId": "1e6e68ff-89c6-4524-836c-702f0d702fc3"
      },
      "source": [
        "    num = int(input(\"enter the number?\"))  \n",
        "    if num%2 == 0:  \n",
        "        print(\"Number is even...\")  \n",
        "    else:  \n",
        "        print(\"Number is odd...\")  "
      ],
      "id": "0a328395",
      "execution_count": null,
      "outputs": [
        {
          "name": "stdout",
          "output_type": "stream",
          "text": [
            "enter the number?23\n",
            "Number is odd...\n"
          ]
        }
      ]
    },
    {
      "cell_type": "code",
      "metadata": {
        "id": "11628e55",
        "outputId": "49db2abd-624f-4a6a-f97f-0bde943afd13"
      },
      "source": [
        "    number = int(input(\"Enter the number?\"))  \n",
        "    if number==10:  \n",
        "        print(\"number is equals to 10\")  \n",
        "    elif number==50:  \n",
        "        print(\"number is equal to 50\");  \n",
        "    elif number==100:  \n",
        "        print(\"number is equal to 100\");  \n",
        "    else:  \n",
        "        print(\"number is not equal to 10, 50 or 100\");  "
      ],
      "id": "11628e55",
      "execution_count": null,
      "outputs": [
        {
          "name": "stdout",
          "output_type": "stream",
          "text": [
            "Enter the number?3435\n",
            "number is not equal to 10, 50 or 100\n"
          ]
        }
      ]
    },
    {
      "cell_type": "code",
      "metadata": {
        "id": "6b02cacc",
        "outputId": "f54d3feb-d61e-42ab-c0ba-b943b873458b"
      },
      "source": [
        "number = input(\"Enter the number?\")\n",
        "if number==10:  \n",
        "    print(\"number is equals to 10\")  \n",
        "elif number==50:  \n",
        "    print(\"number is equal to 50\");  \n",
        "elif number==100:  \n",
        "    print(\"number is equal to 100\");  \n",
        "else:  \n",
        "    print(\"number is not equal to 10, 50 or 100\");  "
      ],
      "id": "6b02cacc",
      "execution_count": null,
      "outputs": [
        {
          "name": "stdout",
          "output_type": "stream",
          "text": [
            "Enter the number?22\n",
            "number is not equal to 10, 50 or 100\n"
          ]
        }
      ]
    },
    {
      "cell_type": "code",
      "metadata": {
        "id": "b6a59f62",
        "outputId": "41467a2d-ce29-4086-c6e7-49a4fa74b017"
      },
      "source": [
        "    marks = int(input(\"Enter the marks? \"))  \n",
        "    if marks > 85 and marks <= 100:  \n",
        "       print(\"Congrats ! you scored grade A ...\")  \n",
        "    elif marks > 60 and marks <= 85:  \n",
        "       print(\"You scored grade B + ...\")  \n",
        "    elif marks > 40 and marks <= 60:  \n",
        "       print(\"You scored grade B ...\")  \n",
        "    elif (marks > 30 and marks <= 40):  \n",
        "       print(\"You scored grade C ...\")  \n",
        "    else:  \n",
        "       print(\"Sorry you are fail ?\")  "
      ],
      "id": "b6a59f62",
      "execution_count": null,
      "outputs": [
        {
          "name": "stdout",
          "output_type": "stream",
          "text": [
            "Enter the marks? 78\n",
            "You scored grade B + ...\n"
          ]
        }
      ]
    },
    {
      "cell_type": "code",
      "metadata": {
        "id": "095997f5"
      },
      "source": [
        ""
      ],
      "id": "095997f5",
      "execution_count": null,
      "outputs": []
    },
    {
      "cell_type": "code",
      "metadata": {
        "id": "39540fdf"
      },
      "source": [
        ""
      ],
      "id": "39540fdf",
      "execution_count": null,
      "outputs": []
    }
  ]
}