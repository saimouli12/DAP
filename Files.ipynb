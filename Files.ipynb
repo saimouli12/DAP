{
  "nbformat": 4,
  "nbformat_minor": 5,
  "metadata": {
    "kernelspec": {
      "display_name": "Python 3",
      "language": "python",
      "name": "python3"
    },
    "language_info": {
      "codemirror_mode": {
        "name": "ipython",
        "version": 3
      },
      "file_extension": ".py",
      "mimetype": "text/x-python",
      "name": "python",
      "nbconvert_exporter": "python",
      "pygments_lexer": "ipython3",
      "version": "3.8.8"
    },
    "colab": {
      "name": " Files.ipynb",
      "provenance": [],
      "include_colab_link": true
    }
  },
  "cells": [
    {
      "cell_type": "markdown",
      "metadata": {
        "id": "view-in-github",
        "colab_type": "text"
      },
      "source": [
        "<a href=\"https://colab.research.google.com/github/saimouli12/DAP/blob/main/Files.ipynb\" target=\"_parent\"><img src=\"https://colab.research.google.com/assets/colab-badge.svg\" alt=\"Open In Colab\"/></a>"
      ]
    },
    {
      "cell_type": "code",
      "metadata": {
        "id": "70706d82",
        "outputId": "7150b8b1-b418-47bd-ad45-4299aef82672"
      },
      "source": [
        "print (\"Python is really a great language,\", \"isn't it?\")"
      ],
      "id": "70706d82",
      "execution_count": null,
      "outputs": [
        {
          "name": "stdout",
          "output_type": "stream",
          "text": [
            "Python is really a great language, isn't it?\n"
          ]
        }
      ]
    },
    {
      "cell_type": "code",
      "metadata": {
        "id": "be356047",
        "outputId": "8b6858be-b22d-48bf-ee47-28e7bc14baa8"
      },
      "source": [
        "str = input(\"Enter your input: \")\n",
        "print (\"Received input is : \", str)"
      ],
      "id": "be356047",
      "execution_count": null,
      "outputs": [
        {
          "name": "stdout",
          "output_type": "stream",
          "text": [
            "Enter your input: hello\n",
            "Received input is :  hello\n"
          ]
        }
      ]
    },
    {
      "cell_type": "code",
      "metadata": {
        "id": "4800f68f",
        "outputId": "d4bf6d56-27d5-4376-e3cd-97876f24c37a"
      },
      "source": [
        "\n",
        "# Open a file\n",
        "fo = open(\"foo.txt\", \"wb\")\n",
        "print (\"Name of the file: \", fo.name)\n",
        "\n",
        "# Close opend file\n",
        "fo.close()"
      ],
      "id": "4800f68f",
      "execution_count": null,
      "outputs": [
        {
          "name": "stdout",
          "output_type": "stream",
          "text": [
            "Name of the file:  foo.txt\n"
          ]
        }
      ]
    },
    {
      "cell_type": "code",
      "metadata": {
        "id": "ee78f4df",
        "outputId": "d8a342b1-3720-4dd3-d5a3-68a4f6d085da"
      },
      "source": [
        "f = open(\"demofile2.txt\", \"a\")\n",
        "f.write(\"See you soon!\")\n",
        "f.close()\n",
        "\n",
        "#open and read the file after the appending:\n",
        "f = open(\"demofile2.txt\", \"r\")\n",
        "print(f.read()) "
      ],
      "id": "ee78f4df",
      "execution_count": null,
      "outputs": [
        {
          "name": "stdout",
          "output_type": "stream",
          "text": [
            "See you soon!See you soon!\n"
          ]
        }
      ]
    },
    {
      "cell_type": "code",
      "metadata": {
        "id": "b7a5909b",
        "outputId": "ed784a94-37bc-4c87-f64b-410417d28eba"
      },
      "source": [
        "# Open a file\n",
        "fo = open(\"foo.txt\", \"r+\")\n",
        "str = fo.read(10);\n",
        "print (\"Read String is : \", str)\n",
        "# Close opend file\n",
        "fo.close()"
      ],
      "id": "b7a5909b",
      "execution_count": null,
      "outputs": [
        {
          "name": "stdout",
          "output_type": "stream",
          "text": [
            "Read String is :  \n"
          ]
        }
      ]
    },
    {
      "cell_type": "code",
      "metadata": {
        "id": "1b581901",
        "outputId": "43fad836-6fa3-42a1-ea7d-e890cba19336"
      },
      "source": [
        "fo = open(\"foo.txt\", \"wb\")\n",
        "print (\"Name of the file: \", fo.name)\n",
        "print (\"Closed or not : \", fo.closed)\n",
        "print (\"Opening mode : \", fo.mode)\n"
      ],
      "id": "1b581901",
      "execution_count": null,
      "outputs": [
        {
          "name": "stdout",
          "output_type": "stream",
          "text": [
            "Name of the file:  foo.txt\n",
            "Closed or not :  False\n",
            "Opening mode :  wb\n"
          ]
        }
      ]
    },
    {
      "cell_type": "code",
      "metadata": {
        "id": "fe626966",
        "outputId": "533adf0d-2bf3-4fcb-b57f-c416bdf114ea"
      },
      "source": [
        "# Open a file\n",
        "fo = open(\"demofile2.txt\", \"r+\")\n",
        "str = fo.read(10)\n",
        "print (\"Read String is : \", str)\n",
        "\n",
        "# Check current position\n",
        "position = fo.tell()\n",
        "print (\"Current file position : \", position)\n",
        "\n",
        "# Reposition pointer at the beginning once again\n",
        "position = fo.seek(1, 0);\n",
        "str = fo.read(10)\n",
        "print (\"Again read String is : \", str)\n",
        "# Close opened file\n",
        "fo.close()"
      ],
      "id": "fe626966",
      "execution_count": null,
      "outputs": [
        {
          "name": "stdout",
          "output_type": "stream",
          "text": [
            "Read String is :  See you so\n",
            "Current file position :  10\n",
            "Again read String is :  ee you soo\n"
          ]
        }
      ]
    },
    {
      "cell_type": "code",
      "metadata": {
        "id": "a569ca60",
        "outputId": "12a8287d-0637-4ba0-aa0b-27b1546830c0"
      },
      "source": [
        "import os\n",
        "\n",
        "# Rename a file from test1.txt to test2.txt\n",
        "os.rename(\"demofile2.txt\", \"test2.txt\" )"
      ],
      "id": "a569ca60",
      "execution_count": null,
      "outputs": [
        {
          "ename": "PermissionError",
          "evalue": "[WinError 32] The process cannot access the file because it is being used by another process: 'demofile2.txt' -> 'test2.txt'",
          "output_type": "error",
          "traceback": [
            "\u001b[1;31m---------------------------------------------------------------------------\u001b[0m",
            "\u001b[1;31mPermissionError\u001b[0m                           Traceback (most recent call last)",
            "\u001b[1;32m<ipython-input-22-72dbd1b7e390>\u001b[0m in \u001b[0;36m<module>\u001b[1;34m\u001b[0m\n\u001b[0;32m      2\u001b[0m \u001b[1;33m\u001b[0m\u001b[0m\n\u001b[0;32m      3\u001b[0m \u001b[1;31m# Rename a file from test1.txt to test2.txt\u001b[0m\u001b[1;33m\u001b[0m\u001b[1;33m\u001b[0m\u001b[1;33m\u001b[0m\u001b[0m\n\u001b[1;32m----> 4\u001b[1;33m \u001b[0mos\u001b[0m\u001b[1;33m.\u001b[0m\u001b[0mrename\u001b[0m\u001b[1;33m(\u001b[0m\u001b[1;34m\"demofile2.txt\"\u001b[0m\u001b[1;33m,\u001b[0m \u001b[1;34m\"test2.txt\"\u001b[0m \u001b[1;33m)\u001b[0m\u001b[1;33m\u001b[0m\u001b[1;33m\u001b[0m\u001b[0m\n\u001b[0m",
            "\u001b[1;31mPermissionError\u001b[0m: [WinError 32] The process cannot access the file because it is being used by another process: 'demofile2.txt' -> 'test2.txt'"
          ]
        }
      ]
    },
    {
      "cell_type": "code",
      "metadata": {
        "id": "d12a6e83",
        "outputId": "3789c3a4-fa1e-42aa-9335-97d9e874ec84"
      },
      "source": [
        "import os\n",
        "\n",
        "# Delete file test2.txt\n",
        "os.remove(\"text2.txt\")"
      ],
      "id": "d12a6e83",
      "execution_count": null,
      "outputs": [
        {
          "ename": "FileNotFoundError",
          "evalue": "[WinError 2] The system cannot find the file specified: 'text2.txt'",
          "output_type": "error",
          "traceback": [
            "\u001b[1;31m---------------------------------------------------------------------------\u001b[0m",
            "\u001b[1;31mFileNotFoundError\u001b[0m                         Traceback (most recent call last)",
            "\u001b[1;32m<ipython-input-23-165d86c30141>\u001b[0m in \u001b[0;36m<module>\u001b[1;34m\u001b[0m\n\u001b[0;32m      2\u001b[0m \u001b[1;33m\u001b[0m\u001b[0m\n\u001b[0;32m      3\u001b[0m \u001b[1;31m# Delete file test2.txt\u001b[0m\u001b[1;33m\u001b[0m\u001b[1;33m\u001b[0m\u001b[1;33m\u001b[0m\u001b[0m\n\u001b[1;32m----> 4\u001b[1;33m \u001b[0mos\u001b[0m\u001b[1;33m.\u001b[0m\u001b[0mremove\u001b[0m\u001b[1;33m(\u001b[0m\u001b[1;34m\"text2.txt\"\u001b[0m\u001b[1;33m)\u001b[0m\u001b[1;33m\u001b[0m\u001b[1;33m\u001b[0m\u001b[0m\n\u001b[0m",
            "\u001b[1;31mFileNotFoundError\u001b[0m: [WinError 2] The system cannot find the file specified: 'text2.txt'"
          ]
        }
      ]
    },
    {
      "cell_type": "code",
      "metadata": {
        "id": "e6685d3f"
      },
      "source": [
        "import os\n",
        "\n",
        "# Create a directory \"test\"\n",
        "os.mkdir(\"test\")"
      ],
      "id": "e6685d3f",
      "execution_count": null,
      "outputs": []
    },
    {
      "cell_type": "code",
      "metadata": {
        "id": "5ff36359",
        "outputId": "61c7e419-bf92-44f6-8255-7c9fe32a0e97"
      },
      "source": [
        "import os\n",
        "\n",
        "# Changing a directory to \"/home/newdir\"\n",
        "os.chdir(\"D:\\shab\")"
      ],
      "id": "5ff36359",
      "execution_count": null,
      "outputs": [
        {
          "ename": "PermissionError",
          "evalue": "[WinError 21] The device is not ready: 'D:\\\\shab'",
          "output_type": "error",
          "traceback": [
            "\u001b[1;31m---------------------------------------------------------------------------\u001b[0m",
            "\u001b[1;31mPermissionError\u001b[0m                           Traceback (most recent call last)",
            "\u001b[1;32m<ipython-input-29-6893d08a1667>\u001b[0m in \u001b[0;36m<module>\u001b[1;34m\u001b[0m\n\u001b[0;32m      2\u001b[0m \u001b[1;33m\u001b[0m\u001b[0m\n\u001b[0;32m      3\u001b[0m \u001b[1;31m# Changing a directory to \"/home/newdir\"\u001b[0m\u001b[1;33m\u001b[0m\u001b[1;33m\u001b[0m\u001b[1;33m\u001b[0m\u001b[0m\n\u001b[1;32m----> 4\u001b[1;33m \u001b[0mos\u001b[0m\u001b[1;33m.\u001b[0m\u001b[0mchdir\u001b[0m\u001b[1;33m(\u001b[0m\u001b[1;34m\"D:\\shab\"\u001b[0m\u001b[1;33m)\u001b[0m\u001b[1;33m\u001b[0m\u001b[1;33m\u001b[0m\u001b[0m\n\u001b[0m",
            "\u001b[1;31mPermissionError\u001b[0m: [WinError 21] The device is not ready: 'D:\\\\shab'"
          ]
        }
      ]
    },
    {
      "cell_type": "code",
      "metadata": {
        "id": "9ae156cf"
      },
      "source": [
        "import os\n",
        "\n",
        "# This would give location of the current directory\n",
        "os.getcwd()\n",
        "\n",
        "\n",
        "# This would  remove \"/tmp/test\"  directory.\n",
        "os.rmdir( \"/tmp/test\"  )"
      ],
      "id": "9ae156cf",
      "execution_count": null,
      "outputs": []
    }
  ]
}