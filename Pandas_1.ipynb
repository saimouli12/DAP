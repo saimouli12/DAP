{
  "nbformat": 4,
  "nbformat_minor": 5,
  "metadata": {
    "kernelspec": {
      "display_name": "Python 3",
      "language": "python",
      "name": "python3"
    },
    "language_info": {
      "codemirror_mode": {
        "name": "ipython",
        "version": 3
      },
      "file_extension": ".py",
      "mimetype": "text/x-python",
      "name": "python",
      "nbconvert_exporter": "python",
      "pygments_lexer": "ipython3",
      "version": "3.8.8"
    },
    "colab": {
      "name": " Pandas-1.ipynb",
      "provenance": [],
      "include_colab_link": true
    }
  },
  "cells": [
    {
      "cell_type": "markdown",
      "metadata": {
        "id": "view-in-github",
        "colab_type": "text"
      },
      "source": [
        "<a href=\"https://colab.research.google.com/github/saimouli12/DAP/blob/main/Pandas_1.ipynb\" target=\"_parent\"><img src=\"https://colab.research.google.com/assets/colab-badge.svg\" alt=\"Open In Colab\"/></a>"
      ]
    },
    {
      "cell_type": "code",
      "metadata": {
        "id": "636defc4",
        "outputId": "bd5ce3ff-6e43-4603-cde2-74bb8ac951b2"
      },
      "source": [
        "import pandas as pd\n",
        "import numpy as np\n",
        "\n",
        "#Create a series with 100 random numbers\n",
        "s = pd.Series(np.random.randn(4))\n",
        "print (s)"
      ],
      "id": "636defc4",
      "execution_count": null,
      "outputs": [
        {
          "name": "stdout",
          "output_type": "stream",
          "text": [
            "0    0.640962\n",
            "1    0.448861\n",
            "2    0.765249\n",
            "3   -0.058867\n",
            "dtype: float64\n"
          ]
        }
      ]
    },
    {
      "cell_type": "code",
      "metadata": {
        "id": "016d0aaa",
        "outputId": "a3f35344-3bd8-456c-e487-e0f44cb0f490"
      },
      "source": [
        "import pandas as pd\n",
        "import numpy as np\n",
        "\n",
        "#Create a series with 100 random numbers\n",
        "s = pd.Series(np.random.randn(4))\n",
        "print (\"The axes are:\")\n",
        "print (s.axes)"
      ],
      "id": "016d0aaa",
      "execution_count": null,
      "outputs": [
        {
          "name": "stdout",
          "output_type": "stream",
          "text": [
            "The axes are:\n",
            "[RangeIndex(start=0, stop=4, step=1)]\n"
          ]
        }
      ]
    },
    {
      "cell_type": "code",
      "metadata": {
        "id": "866beb7b",
        "outputId": "bf593b30-bf3d-4b04-bdec-ca9e1527742f"
      },
      "source": [
        "import pandas as pd\n",
        "import numpy as np\n",
        "\n",
        "#Create a series with 100 random numbers\n",
        "s = pd.Series(np.random.randn(4))\n",
        "print (\"Is the Object empty?\")\n",
        "print (s.empty)"
      ],
      "id": "866beb7b",
      "execution_count": null,
      "outputs": [
        {
          "name": "stdout",
          "output_type": "stream",
          "text": [
            "Is the Object empty?\n",
            "False\n"
          ]
        }
      ]
    },
    {
      "cell_type": "code",
      "metadata": {
        "id": "5906b21b",
        "outputId": "aac4a1c4-76ab-4423-96e1-d00f69a57f12"
      },
      "source": [
        "import pandas as pd\n",
        "import numpy as np\n",
        "\n",
        "#Create a series with 4 random numbers\n",
        "s = pd.Series(np.random.randn(4))\n",
        "print (s)\n",
        "\n",
        "print (\"The dimensions of the object:\")\n",
        "print (s.ndim)"
      ],
      "id": "5906b21b",
      "execution_count": null,
      "outputs": [
        {
          "name": "stdout",
          "output_type": "stream",
          "text": [
            "0   -0.043565\n",
            "1    0.139736\n",
            "2   -0.033096\n",
            "3   -0.470011\n",
            "dtype: float64\n",
            "The dimensions of the object:\n",
            "1\n"
          ]
        }
      ]
    },
    {
      "cell_type": "code",
      "metadata": {
        "id": "a3244c38",
        "outputId": "51254357-c04d-49e5-c1f8-5a4730f8b5d2"
      },
      "source": [
        "import pandas as pd\n",
        "import numpy as np\n",
        "\n",
        "#Create a series with 4 random numbers\n",
        "s = pd.Series(np.random.randn(2))\n",
        "print (s)\n",
        "print (\"The size of the object:\")\n",
        "print (s.size)"
      ],
      "id": "a3244c38",
      "execution_count": null,
      "outputs": [
        {
          "name": "stdout",
          "output_type": "stream",
          "text": [
            "0   -0.915215\n",
            "1    0.250136\n",
            "dtype: float64\n",
            "The size of the object:\n",
            "2\n"
          ]
        }
      ]
    },
    {
      "cell_type": "code",
      "metadata": {
        "id": "65b35323",
        "outputId": "8360d807-079b-4720-b250-15d9e059306e"
      },
      "source": [
        "import pandas as pd\n",
        "import numpy as np\n",
        "\n",
        "#Create a series with 4 random numbers\n",
        "s = pd.Series(np.random.randn(4))\n",
        "print (s)\n",
        "\n",
        "print (\"The actual data series is:\")\n",
        "print (s.values)"
      ],
      "id": "65b35323",
      "execution_count": null,
      "outputs": [
        {
          "name": "stdout",
          "output_type": "stream",
          "text": [
            "0    0.140421\n",
            "1   -1.173498\n",
            "2    1.355218\n",
            "3   -0.133246\n",
            "dtype: float64\n",
            "The actual data series is:\n",
            "[ 0.14042064 -1.17349845  1.35521819 -0.13324604]\n"
          ]
        }
      ]
    },
    {
      "cell_type": "code",
      "metadata": {
        "id": "7bbc8cb8",
        "outputId": "5aaa469a-ceed-461b-a423-48ccf79eb4b9"
      },
      "source": [
        "import pandas as pd\n",
        "import numpy as np\n",
        "\n",
        "#Create a series with 4 random numbers\n",
        "s = pd.Series(np.random.randn(4))\n",
        "print (\"The original series is:\")\n",
        "print (s)\n",
        "\n",
        "print (\"The first two rows of the data series:\")\n",
        "print (s.head(2))"
      ],
      "id": "7bbc8cb8",
      "execution_count": null,
      "outputs": [
        {
          "name": "stdout",
          "output_type": "stream",
          "text": [
            "The original series is:\n",
            "0   -0.572345\n",
            "1    1.143168\n",
            "2    0.547497\n",
            "3   -0.486110\n",
            "dtype: float64\n",
            "The first two rows of the data series:\n",
            "0   -0.572345\n",
            "1    1.143168\n",
            "dtype: float64\n"
          ]
        }
      ]
    },
    {
      "cell_type": "code",
      "metadata": {
        "id": "fd4f9722",
        "outputId": "0df6f8cd-f4cc-4670-94e5-a68d2b63fbb2"
      },
      "source": [
        "import pandas as pd\n",
        "import numpy as np\n",
        "\n",
        "#Create a series with 4 random numbers\n",
        "s = pd.Series(np.random.randn(4))\n",
        "print (\"The original series is:\")\n",
        "print (s)\n",
        "\n",
        "print (\"The last two rows of the data series:\")\n",
        "print (s.tail(2))"
      ],
      "id": "fd4f9722",
      "execution_count": null,
      "outputs": [
        {
          "name": "stdout",
          "output_type": "stream",
          "text": [
            "The original series is:\n",
            "0   -1.097691\n",
            "1   -0.436543\n",
            "2   -0.535559\n",
            "3   -0.938054\n",
            "dtype: float64\n",
            "The last two rows of the data series:\n",
            "2   -0.535559\n",
            "3   -0.938054\n",
            "dtype: float64\n"
          ]
        }
      ]
    },
    {
      "cell_type": "code",
      "metadata": {
        "id": "18eda3f8",
        "outputId": "6fd56302-0311-4b21-f0b6-e6273a1de4b9"
      },
      "source": [
        "import pandas as pd\n",
        "import numpy as np\n",
        "\n",
        "#Create a Dictionary of series\n",
        "d = {'Name':pd.Series(['Tom','James','Ricky','Vin','Steve','Smith','Jack']),\n",
        "   'Age':pd.Series([25,26,25,23,30,29,23]),\n",
        "   'Rating':pd.Series([4.23,3.24,3.98,2.56,3.20,4.6,3.8])}\n",
        "\n",
        "#Create a DataFrame\n",
        "df = pd.DataFrame(d)\n",
        "print (\"Our data series is:\")\n",
        "print (df)"
      ],
      "id": "18eda3f8",
      "execution_count": null,
      "outputs": [
        {
          "name": "stdout",
          "output_type": "stream",
          "text": [
            "Our data series is:\n",
            "    Name  Age  Rating\n",
            "0    Tom   25    4.23\n",
            "1  James   26    3.24\n",
            "2  Ricky   25    3.98\n",
            "3    Vin   23    2.56\n",
            "4  Steve   30    3.20\n",
            "5  Smith   29    4.60\n",
            "6   Jack   23    3.80\n"
          ]
        }
      ]
    },
    {
      "cell_type": "code",
      "metadata": {
        "id": "84f65f27",
        "outputId": "b4a64bcf-8bbf-4fff-e382-74ace2a512be"
      },
      "source": [
        "import pandas as pd\n",
        "import numpy as np\n",
        " \n",
        "# Create a Dictionary of series\n",
        "d = {'Name':pd.Series(['Tom','James','Ricky','Vin','Steve','Smith','Jack']),\n",
        "   'Age':pd.Series([25,26,25,23,30,29,23]),\n",
        "   'Rating':pd.Series([4.23,3.24,3.98,2.56,3.20,4.6,3.8])}\n",
        "\n",
        "# Create a DataFrame\n",
        "df = pd.DataFrame(d)\n",
        "print (\"The transpose of the data series is:\")\n",
        "print (df.T)"
      ],
      "id": "84f65f27",
      "execution_count": null,
      "outputs": [
        {
          "name": "stdout",
          "output_type": "stream",
          "text": [
            "The transpose of the data series is:\n",
            "           0      1      2     3      4      5     6\n",
            "Name     Tom  James  Ricky   Vin  Steve  Smith  Jack\n",
            "Age       25     26     25    23     30     29    23\n",
            "Rating  4.23   3.24   3.98  2.56    3.2    4.6   3.8\n"
          ]
        }
      ]
    },
    {
      "cell_type": "code",
      "metadata": {
        "id": "ea7561ea",
        "outputId": "f0cb0603-793c-410b-ac28-13e6be84d4f5"
      },
      "source": [
        "import pandas as pd\n",
        "import numpy as np\n",
        "\n",
        "#Create a Dictionary of series\n",
        "d = {'Name':pd.Series(['Tom','James','Ricky','Vin','Steve','Smith','Jack']),\n",
        "   'Age':pd.Series([25,26,25,23,30,29,23]),\n",
        "   'Rating':pd.Series([4.23,3.24,3.98,2.56,3.20,4.6,3.8])}\n",
        "\n",
        "#Create a DataFrame\n",
        "df = pd.DataFrame(d)\n",
        "print (\"Row axis labels and column axis labels are:\")\n",
        "print (df.axes)"
      ],
      "id": "ea7561ea",
      "execution_count": null,
      "outputs": [
        {
          "name": "stdout",
          "output_type": "stream",
          "text": [
            "Row axis labels and column axis labels are:\n",
            "[RangeIndex(start=0, stop=7, step=1), Index(['Name', 'Age', 'Rating'], dtype='object')]\n"
          ]
        }
      ]
    },
    {
      "cell_type": "code",
      "metadata": {
        "id": "11e0f0bd",
        "outputId": "6b5c54e7-9c5d-4bdb-d8f1-9c1e7b912d76"
      },
      "source": [
        "import pandas as pd\n",
        "import numpy as np\n",
        "\n",
        "#Create a Dictionary of series\n",
        "d = {'Name':pd.Series(['Tom','James','Ricky','Vin','Steve','Smith','Jack']),\n",
        "   'Age':pd.Series([25,26,25,23,30,29,23]),\n",
        "   'Rating':pd.Series([4.23,3.24,3.98,2.56,3.20,4.6,3.8])}\n",
        "\n",
        "#Create a DataFrame\n",
        "df = pd.DataFrame(d)\n",
        "print (\"The data types of each column are:\")\n",
        "print (df.dtypes)"
      ],
      "id": "11e0f0bd",
      "execution_count": null,
      "outputs": [
        {
          "name": "stdout",
          "output_type": "stream",
          "text": [
            "The data types of each column are:\n",
            "Name       object\n",
            "Age         int64\n",
            "Rating    float64\n",
            "dtype: object\n"
          ]
        }
      ]
    },
    {
      "cell_type": "code",
      "metadata": {
        "id": "ccdf0ac4",
        "outputId": "d8c90db0-4b0e-48cd-9b04-e5a2eff1e258"
      },
      "source": [
        "import pandas as pd\n",
        "import numpy as np\n",
        " \n",
        "#Create a Dictionary of series\n",
        "d = {'Name':pd.Series(['Tom','James','Ricky','Vin','Steve','Smith','Jack']),\n",
        "   'Age':pd.Series([25,26,25,23,30,29,23]),\n",
        "   'Rating':pd.Series([4.23,3.24,3.98,2.56,3.20,4.6,3.8])}\n",
        " \n",
        "#Create a DataFrame\n",
        "df = pd.DataFrame(d)\n",
        "print (\"Is the object empty?\")\n",
        "print (df.empty)"
      ],
      "id": "ccdf0ac4",
      "execution_count": null,
      "outputs": [
        {
          "name": "stdout",
          "output_type": "stream",
          "text": [
            "Is the object empty?\n",
            "False\n"
          ]
        }
      ]
    },
    {
      "cell_type": "code",
      "metadata": {
        "id": "1a2fb63a",
        "outputId": "23230097-02c1-41eb-d50a-fe956805bfe9"
      },
      "source": [
        "#ndim-Returns the number of dimensions of the object. By definition, DataFrame is a 2D object.\n",
        "\n",
        "import pandas as pd\n",
        "import numpy as np\n",
        "\n",
        "#Create a Dictionary of series\n",
        "d = {'Name':pd.Series(['Tom','James','Ricky','Vin','Steve','Smith','Jack']),\n",
        "   'Age':pd.Series([25,26,25,23,30,29,23]),\n",
        "   'Rating':pd.Series([4.23,3.24,3.98,2.56,3.20,4.6,3.8])}\n",
        "\n",
        "#Create a DataFrame\n",
        "df = pd.DataFrame(d)\n",
        "print (\"Our object is:\")\n",
        "print (df)\n",
        "print (\"The dimension of the object is:\")\n",
        "print (df.ndim)"
      ],
      "id": "1a2fb63a",
      "execution_count": null,
      "outputs": [
        {
          "name": "stdout",
          "output_type": "stream",
          "text": [
            "Our object is:\n",
            "    Name  Age  Rating\n",
            "0    Tom   25    4.23\n",
            "1  James   26    3.24\n",
            "2  Ricky   25    3.98\n",
            "3    Vin   23    2.56\n",
            "4  Steve   30    3.20\n",
            "5  Smith   29    4.60\n",
            "6   Jack   23    3.80\n",
            "The dimension of the object is:\n",
            "2\n"
          ]
        }
      ]
    },
    {
      "cell_type": "code",
      "metadata": {
        "id": "c5c1079b",
        "outputId": "b3ee16bc-99fb-46ad-df02-bf2592e89bd0"
      },
      "source": [
        "import pandas as pd\n",
        "import numpy as np\n",
        " \n",
        "#Create a Dictionary of series\n",
        "d = {'Name':pd.Series(['Tom','James','Ricky','Vin','Steve','Smith','Jack']),\n",
        "   'Age':pd.Series([25,26,25,23,30,29,23]),\n",
        "   'Rating':pd.Series([4.23,3.24,3.98,2.56,3.20,4.6,3.8])}\n",
        " \n",
        "#Create a DataFrame\n",
        "df = pd.DataFrame(d)\n",
        "print (\"Our object is:\")\n",
        "print (df)\n",
        "print (\"The shape of the object is:\")\n",
        "print (df.shape)"
      ],
      "id": "c5c1079b",
      "execution_count": null,
      "outputs": [
        {
          "name": "stdout",
          "output_type": "stream",
          "text": [
            "Our object is:\n",
            "    Name  Age  Rating\n",
            "0    Tom   25    4.23\n",
            "1  James   26    3.24\n",
            "2  Ricky   25    3.98\n",
            "3    Vin   23    2.56\n",
            "4  Steve   30    3.20\n",
            "5  Smith   29    4.60\n",
            "6   Jack   23    3.80\n",
            "The shape of the object is:\n",
            "(7, 3)\n"
          ]
        }
      ]
    },
    {
      "cell_type": "code",
      "metadata": {
        "id": "6948553c",
        "outputId": "450cd3d6-82d0-43a1-d147-4bffd9913f9f"
      },
      "source": [
        "import pandas as pd\n",
        "import numpy as np\n",
        " \n",
        "#Create a Dictionary of series\n",
        "d = {'Name':pd.Series(['Tom','James','Ricky','Vin','Steve','Smith','Jack']),\n",
        "   'Age':pd.Series([25,26,25,23,30,29,23]),\n",
        "   'Rating':pd.Series([4.23,3.24,3.98,2.56,3.20,4.6,3.8])}\n",
        " \n",
        "#Create a DataFrame\n",
        "df = pd.DataFrame(d)\n",
        "print (\"Our object is:\")\n",
        "print (df)\n",
        "print (\"The total number of elements in our object is:\")\n",
        "print (df.size)"
      ],
      "id": "6948553c",
      "execution_count": null,
      "outputs": [
        {
          "name": "stdout",
          "output_type": "stream",
          "text": [
            "Our object is:\n",
            "    Name  Age  Rating\n",
            "0    Tom   25    4.23\n",
            "1  James   26    3.24\n",
            "2  Ricky   25    3.98\n",
            "3    Vin   23    2.56\n",
            "4  Steve   30    3.20\n",
            "5  Smith   29    4.60\n",
            "6   Jack   23    3.80\n",
            "The total number of elements in our object is:\n",
            "21\n"
          ]
        }
      ]
    },
    {
      "cell_type": "code",
      "metadata": {
        "id": "578284a6",
        "outputId": "d7924ed2-eedc-457f-9494-f21572d593c2"
      },
      "source": [
        "import pandas as pd\n",
        "import numpy as np\n",
        " \n",
        "#Create a Dictionary of series\n",
        "d = {'Name':pd.Series(['Tom','James','Ricky','Vin','Steve','Smith','Jack']),\n",
        "   'Age':pd.Series([25,26,25,23,30,29,23]),\n",
        "   'Rating':pd.Series([4.23,3.24,3.98,2.56,3.20,4.6,3.8])}\n",
        " \n",
        "#Create a DataFrame\n",
        "df = pd.DataFrame(d)\n",
        "print (\"Our object is:\")\n",
        "print (df)\n",
        "print (\"The actual data in our data frame is:\")\n",
        "print (df.values)"
      ],
      "id": "578284a6",
      "execution_count": null,
      "outputs": [
        {
          "name": "stdout",
          "output_type": "stream",
          "text": [
            "Our object is:\n",
            "    Name  Age  Rating\n",
            "0    Tom   25    4.23\n",
            "1  James   26    3.24\n",
            "2  Ricky   25    3.98\n",
            "3    Vin   23    2.56\n",
            "4  Steve   30    3.20\n",
            "5  Smith   29    4.60\n",
            "6   Jack   23    3.80\n",
            "The actual data in our data frame is:\n",
            "[['Tom' 25 4.23]\n",
            " ['James' 26 3.24]\n",
            " ['Ricky' 25 3.98]\n",
            " ['Vin' 23 2.56]\n",
            " ['Steve' 30 3.2]\n",
            " ['Smith' 29 4.6]\n",
            " ['Jack' 23 3.8]]\n"
          ]
        }
      ]
    },
    {
      "cell_type": "code",
      "metadata": {
        "id": "bacb768b",
        "outputId": "4b5c7043-9995-4d09-c874-89c047c2bfb2"
      },
      "source": [
        "import pandas as pd\n",
        "import numpy as np\n",
        " \n",
        "#Create a Dictionary of series\n",
        "d = {'Name':pd.Series(['Tom','James','Ricky','Vin','Steve','Smith','Jack']),\n",
        "   'Age':pd.Series([25,26,25,23,30,29,23]),\n",
        "   'Rating':pd.Series([4.23,3.24,3.98,2.56,3.20,4.6,3.8])}\n",
        "\n",
        "#Create a DataFrame\n",
        "df = pd.DataFrame(d)\n",
        "print (\"Our data frame is:\")\n",
        "print (df)\n",
        "print (\"The first two rows of the data frame is:\")\n",
        "print (df.head(3))\n",
        "print(\"default head values\")\n",
        "print (df.head())"
      ],
      "id": "bacb768b",
      "execution_count": null,
      "outputs": [
        {
          "name": "stdout",
          "output_type": "stream",
          "text": [
            "Our data frame is:\n",
            "    Name  Age  Rating\n",
            "0    Tom   25    4.23\n",
            "1  James   26    3.24\n",
            "2  Ricky   25    3.98\n",
            "3    Vin   23    2.56\n",
            "4  Steve   30    3.20\n",
            "5  Smith   29    4.60\n",
            "6   Jack   23    3.80\n",
            "The first two rows of the data frame is:\n",
            "    Name  Age  Rating\n",
            "0    Tom   25    4.23\n",
            "1  James   26    3.24\n",
            "2  Ricky   25    3.98\n",
            "default head values\n",
            "    Name  Age  Rating\n",
            "0    Tom   25    4.23\n",
            "1  James   26    3.24\n",
            "2  Ricky   25    3.98\n",
            "3    Vin   23    2.56\n",
            "4  Steve   30    3.20\n"
          ]
        }
      ]
    },
    {
      "cell_type": "code",
      "metadata": {
        "id": "1fb4d762",
        "outputId": "74f29faf-29b2-4b84-b5cd-e4a17dd54b78"
      },
      "source": [
        "import pandas as pd\n",
        "import numpy as np\n",
        "\n",
        "#Create a Dictionary of series\n",
        "d = {'Name':pd.Series(['Tom','James','Ricky','Vin','Steve','Smith','Jack']),\n",
        "   'Age':pd.Series([25,26,25,23,30,29,23]), \n",
        "   'Rating':pd.Series([4.23,3.24,3.98,2.56,3.20,4.6,3.8])}\n",
        " \n",
        "#Create a DataFrame\n",
        "df = pd.DataFrame(d)\n",
        "print (\"Our data frame is:\")\n",
        "print (df)\n",
        "print (\"The last two rows of the data frame is:\")\n",
        "print (df.tail(2))"
      ],
      "id": "1fb4d762",
      "execution_count": null,
      "outputs": [
        {
          "name": "stdout",
          "output_type": "stream",
          "text": [
            "Our data frame is:\n",
            "    Name  Age  Rating\n",
            "0    Tom   25    4.23\n",
            "1  James   26    3.24\n",
            "2  Ricky   25    3.98\n",
            "3    Vin   23    2.56\n",
            "4  Steve   30    3.20\n",
            "5  Smith   29    4.60\n",
            "6   Jack   23    3.80\n",
            "The last two rows of the data frame is:\n",
            "    Name  Age  Rating\n",
            "5  Smith   29     4.6\n",
            "6   Jack   23     3.8\n"
          ]
        }
      ]
    },
    {
      "cell_type": "code",
      "metadata": {
        "id": "74c76493"
      },
      "source": [
        ""
      ],
      "id": "74c76493",
      "execution_count": null,
      "outputs": []
    }
  ]
}