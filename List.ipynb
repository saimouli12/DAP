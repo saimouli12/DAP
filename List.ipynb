{
  "nbformat": 4,
  "nbformat_minor": 5,
  "metadata": {
    "kernelspec": {
      "display_name": "Python 3",
      "language": "python",
      "name": "python3"
    },
    "language_info": {
      "codemirror_mode": {
        "name": "ipython",
        "version": 3
      },
      "file_extension": ".py",
      "mimetype": "text/x-python",
      "name": "python",
      "nbconvert_exporter": "python",
      "pygments_lexer": "ipython3",
      "version": "3.8.8"
    },
    "colab": {
      "name": " List.ipynb",
      "provenance": [],
      "include_colab_link": true
    }
  },
  "cells": [
    {
      "cell_type": "markdown",
      "metadata": {
        "id": "view-in-github",
        "colab_type": "text"
      },
      "source": [
        "<a href=\"https://colab.research.google.com/github/saimouli12/DAP/blob/main/List.ipynb\" target=\"_parent\"><img src=\"https://colab.research.google.com/assets/colab-badge.svg\" alt=\"Open In Colab\"/></a>"
      ]
    },
    {
      "cell_type": "code",
      "metadata": {
        "id": "a16eb709",
        "outputId": "c890d3c2-3005-4bab-96e5-7bc9cc695361"
      },
      "source": [
        "list1 = ['physics', 'chemistry', 1997, 2000];\n",
        "list2 = [1, 2, 3, 4, 5, 6, 7 ];\n",
        "print (\"list1[0]: \", list1[2])\n",
        "print (\"list2[1:5]: \", list2[1:3])"
      ],
      "id": "a16eb709",
      "execution_count": null,
      "outputs": [
        {
          "name": "stdout",
          "output_type": "stream",
          "text": [
            "list1[0]:  1997\n",
            "list2[1:5]:  [2, 3]\n"
          ]
        }
      ]
    },
    {
      "cell_type": "code",
      "metadata": {
        "id": "ba390b9a",
        "outputId": "4498c444-b8b7-4688-c0ba-4a6e5ee9c6dc"
      },
      "source": [
        "list = ['physics', 'chemistry', 1997, 2000];\n",
        "print (\"Value available at index 2 : \")\n",
        "print (list[2])\n",
        "list[2] = 999999;\n",
        "print (\"New value available at index 2 : \")\n",
        "print (list[2])"
      ],
      "id": "ba390b9a",
      "execution_count": null,
      "outputs": [
        {
          "name": "stdout",
          "output_type": "stream",
          "text": [
            "Value available at index 2 : \n",
            "1997\n",
            "New value available at index 2 : \n",
            "999999\n"
          ]
        }
      ]
    },
    {
      "cell_type": "code",
      "metadata": {
        "id": "6ec3d58a",
        "outputId": "47404a92-1868-4578-95f7-edb151c97366"
      },
      "source": [
        "list1 = ['physics', 'chemistry', 1997, 2000];\n",
        "print (list1)\n",
        "del (list1[2]);\n",
        "print (\"After deleting value at index 2 :\")\n",
        "print (list1)"
      ],
      "id": "6ec3d58a",
      "execution_count": null,
      "outputs": [
        {
          "name": "stdout",
          "output_type": "stream",
          "text": [
            "['physics', 'chemistry', 1997, 2000]\n",
            "After deleting value at index 2 :\n",
            "['physics', 'chemistry', 2000]\n"
          ]
        }
      ]
    },
    {
      "cell_type": "code",
      "metadata": {
        "id": "3ccf5446",
        "outputId": "53acffbe-729d-48c8-b726-e5b14ffcce27"
      },
      "source": [
        "list1, list2 = [123, 'xyz', 'zara'], [456, 'abc']\n",
        "print (\"First list length : \", len(list1))\n",
        "print (\"Second list length : \", len(list2))"
      ],
      "id": "3ccf5446",
      "execution_count": null,
      "outputs": [
        {
          "name": "stdout",
          "output_type": "stream",
          "text": [
            "First list length :  3\n",
            "Second list length :  2\n"
          ]
        }
      ]
    },
    {
      "cell_type": "code",
      "metadata": {
        "id": "925a2fcc",
        "outputId": "4763b117-3121-4e50-bd70-bdb2b0c2d862"
      },
      "source": [
        "aList = [123, 'xyz', 'zara', 'abc'];\n",
        "aList.append( 2009 );\n",
        "print (\"Updated List : \", aList)"
      ],
      "id": "925a2fcc",
      "execution_count": null,
      "outputs": [
        {
          "name": "stdout",
          "output_type": "stream",
          "text": [
            "Updated List :  [123, 'xyz', 'zara', 'abc', 2009]\n"
          ]
        }
      ]
    },
    {
      "cell_type": "code",
      "metadata": {
        "id": "adda2a18",
        "outputId": "806fd4c4-5508-491a-f262-e63a263f4851"
      },
      "source": [
        "aList = [123, 'xyz', 'xyz', 'abc', 123];\n",
        "print (\"Count for xyz : \", aList.count('xyz'))\n",
        "print (\"Count for zara : \", aList.count('zara'))"
      ],
      "id": "adda2a18",
      "execution_count": null,
      "outputs": [
        {
          "name": "stdout",
          "output_type": "stream",
          "text": [
            "Count for xyz :  2\n",
            "Count for zara :  0\n"
          ]
        }
      ]
    },
    {
      "cell_type": "code",
      "metadata": {
        "id": "fd2b4e87",
        "outputId": "e5ce247b-dde1-47be-ee40-4db1eac73040"
      },
      "source": [
        "aList = [123, 'xyz', 'zara', 'abc', 123];\n",
        "bList = [2009, 'shabnam'];\n",
        "aList.extend(bList)\n",
        "print (\"Extended List : \", aList)"
      ],
      "id": "fd2b4e87",
      "execution_count": null,
      "outputs": [
        {
          "name": "stdout",
          "output_type": "stream",
          "text": [
            "Extended List :  [123, 'xyz', 'zara', 'abc', 123, 2009, 'shabnam']\n"
          ]
        }
      ]
    },
    {
      "cell_type": "code",
      "metadata": {
        "id": "ce3eff72",
        "outputId": "d037094b-7c8f-4cf0-a91a-c4e31ea22713"
      },
      "source": [
        "aList = [123, 'xyz', 'zara', 'abc', 'zara'];\n",
        "print (\"Index for xyz : \", aList.index( 'xyz' ) )\n",
        "print (\"Index for zara : \", aList.index( 'zara' ) )"
      ],
      "id": "ce3eff72",
      "execution_count": null,
      "outputs": [
        {
          "name": "stdout",
          "output_type": "stream",
          "text": [
            "Index for xyz :  1\n",
            "Index for zara :  2\n"
          ]
        }
      ]
    },
    {
      "cell_type": "code",
      "metadata": {
        "id": "9280e780",
        "outputId": "625be0e7-4646-456d-cd2b-4d7739f4b9f3"
      },
      "source": [
        "aList = [123, 'xyz', 'zara', 'abc']\n",
        "aList.insert( 3, 2009)\n",
        "print (\"Final List : \", aList)"
      ],
      "id": "9280e780",
      "execution_count": null,
      "outputs": [
        {
          "name": "stdout",
          "output_type": "stream",
          "text": [
            "Final List :  [123, 'xyz', 'zara', 2009, 'abc']\n"
          ]
        }
      ]
    },
    {
      "cell_type": "code",
      "metadata": {
        "id": "badb489a",
        "outputId": "4e609fd2-c243-42e5-baa5-5c2f9b0584f7"
      },
      "source": [
        "aList = [123, 'xyz', 'zara', 'abc'];\n",
        "\n",
        "print(aList)\n",
        "\n",
        "print (\"List after popping last element : \", aList.pop())\n",
        "\n",
        "print(aList)\n",
        "\n",
        "print (\"List after popping element from mentioned index: \", aList.pop(2))\n",
        "\n",
        "print(aList)\n",
        "\n",
        "aList.insert(3, 2009)\n",
        "\n",
        "print(aList)"
      ],
      "id": "badb489a",
      "execution_count": null,
      "outputs": [
        {
          "name": "stdout",
          "output_type": "stream",
          "text": [
            "[123, 'xyz', 'zara', 'abc']\n",
            "List after popping last element :  abc\n",
            "[123, 'xyz', 'zara']\n",
            "List after popping element from mentioned index:  zara\n",
            "[123, 'xyz']\n",
            "[123, 'xyz', 2009]\n"
          ]
        }
      ]
    },
    {
      "cell_type": "code",
      "metadata": {
        "id": "1787188d",
        "outputId": "77cd329f-2c8b-46c3-c846-4648168dc5b9"
      },
      "source": [
        "aList = [123, 'xyz', 'zara', 'abc', 'xyz'];\n",
        "aList.remove('xyz');\n",
        "print (\"List : \", aList)\n",
        "aList.remove('abc');\n",
        "print (\"List : \", aList)"
      ],
      "id": "1787188d",
      "execution_count": null,
      "outputs": [
        {
          "name": "stdout",
          "output_type": "stream",
          "text": [
            "List :  [123, 'zara', 'abc', 'xyz']\n",
            "List :  [123, 'zara', 'xyz']\n"
          ]
        }
      ]
    },
    {
      "cell_type": "code",
      "metadata": {
        "id": "b2c17fb5",
        "outputId": "0b6f310e-d125-409d-faa8-1d608992c24e"
      },
      "source": [
        "aList = ['shabnam', 'xyz', 'zara', 'abc', 'nive'];\n",
        "aList.reverse();\n",
        "print (\"List : \", aList)"
      ],
      "id": "b2c17fb5",
      "execution_count": null,
      "outputs": [
        {
          "name": "stdout",
          "output_type": "stream",
          "text": [
            "List :  ['nive', 'abc', 'zara', 'xyz', 'shabnam']\n"
          ]
        }
      ]
    },
    {
      "cell_type": "code",
      "metadata": {
        "id": "2ef2db47",
        "outputId": "149a7561-1805-4833-ff9f-fd294601cc38"
      },
      "source": [
        "aList = ['naveen', 'shabnam', 'sonia', 'ali', 'nive'];\n",
        "aList.sort();\n",
        "print (\"List : \", aList)"
      ],
      "id": "2ef2db47",
      "execution_count": null,
      "outputs": [
        {
          "name": "stdout",
          "output_type": "stream",
          "text": [
            "List :  ['ali', 'naveen', 'nive', 'shabnam', 'sonia']\n"
          ]
        }
      ]
    },
    {
      "cell_type": "code",
      "metadata": {
        "id": "bfa58dfa",
        "outputId": "8f4036a2-fb55-4548-c467-d3ce8c2af148"
      },
      "source": [
        "aList = [123, 'xyz', 'zara', 'abc', 'xyz'];\n",
        "aList.sort();\n",
        "print (\"List : \", aList)"
      ],
      "id": "bfa58dfa",
      "execution_count": null,
      "outputs": [
        {
          "ename": "TypeError",
          "evalue": "'<' not supported between instances of 'str' and 'int'",
          "output_type": "error",
          "traceback": [
            "\u001b[1;31m---------------------------------------------------------------------------\u001b[0m",
            "\u001b[1;31mTypeError\u001b[0m                                 Traceback (most recent call last)",
            "\u001b[1;32m<ipython-input-16-d16445a53ada>\u001b[0m in \u001b[0;36m<module>\u001b[1;34m\u001b[0m\n\u001b[0;32m      1\u001b[0m \u001b[0maList\u001b[0m \u001b[1;33m=\u001b[0m \u001b[1;33m[\u001b[0m\u001b[1;36m123\u001b[0m\u001b[1;33m,\u001b[0m \u001b[1;34m'xyz'\u001b[0m\u001b[1;33m,\u001b[0m \u001b[1;34m'zara'\u001b[0m\u001b[1;33m,\u001b[0m \u001b[1;34m'abc'\u001b[0m\u001b[1;33m,\u001b[0m \u001b[1;34m'xyz'\u001b[0m\u001b[1;33m]\u001b[0m\u001b[1;33m;\u001b[0m\u001b[1;33m\u001b[0m\u001b[1;33m\u001b[0m\u001b[0m\n\u001b[1;32m----> 2\u001b[1;33m \u001b[0maList\u001b[0m\u001b[1;33m.\u001b[0m\u001b[0msort\u001b[0m\u001b[1;33m(\u001b[0m\u001b[1;33m)\u001b[0m\u001b[1;33m;\u001b[0m\u001b[1;33m\u001b[0m\u001b[1;33m\u001b[0m\u001b[0m\n\u001b[0m\u001b[0;32m      3\u001b[0m \u001b[0mprint\u001b[0m \u001b[1;33m(\u001b[0m\u001b[1;34m\"List : \"\u001b[0m\u001b[1;33m,\u001b[0m \u001b[0maList\u001b[0m\u001b[1;33m)\u001b[0m\u001b[1;33m\u001b[0m\u001b[1;33m\u001b[0m\u001b[0m\n",
            "\u001b[1;31mTypeError\u001b[0m: '<' not supported between instances of 'str' and 'int'"
          ]
        }
      ]
    },
    {
      "cell_type": "code",
      "metadata": {
        "id": "8a0c479f"
      },
      "source": [
        ""
      ],
      "id": "8a0c479f",
      "execution_count": null,
      "outputs": []
    }
  ]
}