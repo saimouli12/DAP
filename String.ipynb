{
  "nbformat": 4,
  "nbformat_minor": 5,
  "metadata": {
    "kernelspec": {
      "display_name": "Python 3",
      "language": "python",
      "name": "python3"
    },
    "language_info": {
      "codemirror_mode": {
        "name": "ipython",
        "version": 3
      },
      "file_extension": ".py",
      "mimetype": "text/x-python",
      "name": "python",
      "nbconvert_exporter": "python",
      "pygments_lexer": "ipython3",
      "version": "3.8.8"
    },
    "colab": {
      "name": "String.ipynb",
      "provenance": [],
      "include_colab_link": true
    }
  },
  "cells": [
    {
      "cell_type": "markdown",
      "metadata": {
        "id": "view-in-github",
        "colab_type": "text"
      },
      "source": [
        "<a href=\"https://colab.research.google.com/github/saimouli12/DAP/blob/main/String.ipynb\" target=\"_parent\"><img src=\"https://colab.research.google.com/assets/colab-badge.svg\" alt=\"Open In Colab\"/></a>"
      ]
    },
    {
      "cell_type": "code",
      "metadata": {
        "id": "639477ba",
        "outputId": "b7a043d3-c7c7-41f3-8b3e-f91c2d18696c"
      },
      "source": [
        "var1 = 'Hello World!'\n",
        "var2 = \"Python Programming\"\n",
        "print(var1,\" \",var2)"
      ],
      "id": "639477ba",
      "execution_count": null,
      "outputs": [
        {
          "name": "stdout",
          "output_type": "stream",
          "text": [
            "Hello World!   Python Programming\n"
          ]
        }
      ]
    },
    {
      "cell_type": "code",
      "metadata": {
        "id": "08c2f75a",
        "outputId": "3554c5f8-a1c1-4a9f-b74a-82a2a1887a40"
      },
      "source": [
        "var1 = 'Hello World!'\n",
        "var2 = \"Python Programming\"\n",
        "\n",
        "print (var1[0])\n",
        "\n",
        "\n",
        "\n",
        "print (var2[1:5])"
      ],
      "id": "08c2f75a",
      "execution_count": null,
      "outputs": [
        {
          "name": "stdout",
          "output_type": "stream",
          "text": [
            "H\n",
            "ytho\n"
          ]
        }
      ]
    },
    {
      "cell_type": "code",
      "metadata": {
        "id": "2a3bb715",
        "outputId": "e90624fd-e573-432b-82f3-f2ab79f985e3"
      },
      "source": [
        "var1 = 'Hello World!'\n",
        "print (\"Updated String :- \", var1[0:6] + 'Shabnam')"
      ],
      "id": "2a3bb715",
      "execution_count": null,
      "outputs": [
        {
          "name": "stdout",
          "output_type": "stream",
          "text": [
            "Updated String :-  Hello Shabnam\n"
          ]
        }
      ]
    },
    {
      "cell_type": "code",
      "metadata": {
        "id": "5a9795e9",
        "outputId": "f66f3585-f2de-4440-c23c-6379d83f547f"
      },
      "source": [
        "str1 = input(\"Please Enter Your Own String : \")\n",
        "\n",
        "str2 = str1\n",
        "str3 = str1[:]\n",
        "str4 = str1[2:6]\n",
        "\n",
        "print(\"The Final String : Str2  = \", str2)\n",
        "print(\"The Final String : Str3  = = \", str3)\n",
        "print(\"The Final String : Str4  = = \", str4)"
      ],
      "id": "5a9795e9",
      "execution_count": null,
      "outputs": [
        {
          "name": "stdout",
          "output_type": "stream",
          "text": [
            "Please Enter Your Own String : hello class\n",
            "The Final String : Str2  =  hello class\n",
            "The Final String : Str3  = =  hello class\n",
            "The Final String : Str4  = =  llo \n"
          ]
        }
      ]
    },
    {
      "cell_type": "code",
      "metadata": {
        "id": "e78fecfd",
        "outputId": "2d378048-a0f2-4e6e-b99a-76638968121e"
      },
      "source": [
        "#Python String capitalize() method returns a copy of the string with only its first character capitalized.\n",
        "str = \"this is string example....wow!!!\";\n",
        "print (\"str.capitalize() : \", str.capitalize())"
      ],
      "id": "e78fecfd",
      "execution_count": null,
      "outputs": [
        {
          "name": "stdout",
          "output_type": "stream",
          "text": [
            "str.capitalize() :  This is string example....wow!!!\n"
          ]
        }
      ]
    },
    {
      "cell_type": "code",
      "metadata": {
        "id": "e3e0d875",
        "outputId": "5b8fe674-f79f-432c-ed0e-30be831bd50d"
      },
      "source": [
        "#center() returns centered in a string of length width. Padding is done using the specified fillchar. Default filler is a space.\n",
        "\n",
        "\n",
        "str = \"this is string example....wow!!!\"\n",
        "print (\"str.center(40, 'a') : \", str.center(40, '*'))"
      ],
      "id": "e3e0d875",
      "execution_count": null,
      "outputs": [
        {
          "name": "stdout",
          "output_type": "stream",
          "text": [
            "str.center(40, 'a') :  ****this is string example....wow!!!****\n"
          ]
        }
      ]
    },
    {
      "cell_type": "code",
      "metadata": {
        "id": "09638a80",
        "outputId": "ce4c357c-1191-4e2f-b258-70f887fca16b"
      },
      "source": [
        "#count() returns the number of occurrences of substring sub in the range [start, end]. \n",
        "\n",
        "#str.count(sub, start= 0,end=len(string))\n",
        "\n",
        "str = \"this is string example....wow!!!\";\n",
        "\n",
        "sub = \"i\";\n",
        "print (\"str.count(sub, 4, 40) : \", str.count(sub, 4, 40))\n",
        "sub = \"wow\";\n",
        "print (\"str.count(sub) : \", str.count(sub))"
      ],
      "id": "09638a80",
      "execution_count": null,
      "outputs": [
        {
          "name": "stdout",
          "output_type": "stream",
          "text": [
            "str.count(sub, 4, 40) :  2\n",
            "str.count(sub) :  1\n"
          ]
        }
      ]
    },
    {
      "cell_type": "code",
      "metadata": {
        "id": "ab509538",
        "outputId": "8b6cb280-a0b0-40cc-a5ec-79e2a09303e6"
      },
      "source": [
        "#find() determines if string str occurs in string, or in a substring of string if starting index beg and ending index end are given.\n",
        "\n",
        "#str.find(str, beg=0, end=len(string))\n",
        "\n",
        "str1 = \"this is string example....wow!!!\";\n",
        "str2 = \"is\";\n",
        "\n",
        "print (str1.find(str2))\n",
        "print (str1.find(str2, 10))\n",
        "print (str1.find(str2, 40))"
      ],
      "id": "ab509538",
      "execution_count": null,
      "outputs": [
        {
          "name": "stdout",
          "output_type": "stream",
          "text": [
            "2\n",
            "-1\n",
            "-1\n"
          ]
        }
      ]
    },
    {
      "cell_type": "code",
      "metadata": {
        "id": "280f1fb5",
        "outputId": "67ada88e-3158-4730-84f9-beac16ca9af8"
      },
      "source": [
        "#index() determines if string str occurs in string or in a substring of string if starting index beg and ending index end are given.\n",
        "\n",
        "str1 = \"this is string example....wow!!!\";\n",
        "str2 = \"exam\";\n",
        "\n",
        "print (str1.index(str2))\n",
        "print (str1.index(str2, 10,32))\n"
      ],
      "id": "280f1fb5",
      "execution_count": null,
      "outputs": [
        {
          "name": "stdout",
          "output_type": "stream",
          "text": [
            "15\n",
            "15\n"
          ]
        }
      ]
    },
    {
      "cell_type": "code",
      "metadata": {
        "id": "3185da7c",
        "outputId": "8cc88517-e741-4076-d056-574350c4322b"
      },
      "source": [
        "#isalnum() checks whether the string consists of alphanumeric characters.\n",
        "\n",
        "str = \"this2009\";  # No space in this string\n",
        "print (str.isalnum())\n",
        "\n",
        "str = \"this is string example....wow!!!\";\n",
        "print (str.isalnum())"
      ],
      "id": "3185da7c",
      "execution_count": null,
      "outputs": [
        {
          "name": "stdout",
          "output_type": "stream",
          "text": [
            "True\n",
            "False\n"
          ]
        }
      ]
    },
    {
      "cell_type": "code",
      "metadata": {
        "id": "c1d5f159",
        "outputId": "cda998fe-9480-4949-aed3-fa5051f15e4c"
      },
      "source": [
        "str = \"ShabnamSharma\";  # No space & digit in this string\n",
        "print (str.isalpha())\n",
        "\n",
        "str = \"this is string example....wow!!!\";\n",
        "print (str.isalpha())"
      ],
      "id": "c1d5f159",
      "execution_count": null,
      "outputs": [
        {
          "name": "stdout",
          "output_type": "stream",
          "text": [
            "True\n",
            "False\n"
          ]
        }
      ]
    },
    {
      "cell_type": "code",
      "metadata": {
        "id": "2446680f",
        "outputId": "cdf13b58-f7e4-4224-d4cc-d9901f04178b"
      },
      "source": [
        "str = \"123456\";  # Only digit in this string\n",
        "print (str.isdigit())\n",
        "\n",
        "str = \"this is string example....wow!!!\";\n",
        "print (str.isdigit())"
      ],
      "id": "2446680f",
      "execution_count": null,
      "outputs": [
        {
          "name": "stdout",
          "output_type": "stream",
          "text": [
            "True\n",
            "False\n"
          ]
        }
      ]
    },
    {
      "cell_type": "code",
      "metadata": {
        "scrolled": true,
        "id": "ed8c6da3",
        "outputId": "c83d01d8-52fa-4116-f7ab-04aaa265bc24"
      },
      "source": [
        "str = \"THIS is string example....wow!!!\"; \n",
        "print (str.islower())\n",
        "\n",
        "str = \"this is string example....wow!!!\";\n",
        "print (str.islower())"
      ],
      "id": "ed8c6da3",
      "execution_count": null,
      "outputs": [
        {
          "name": "stdout",
          "output_type": "stream",
          "text": [
            "False\n",
            "True\n"
          ]
        }
      ]
    },
    {
      "cell_type": "code",
      "metadata": {
        "id": "9bad371e",
        "outputId": "1e4c1e02-630d-49e5-de55-4aeb284c80da"
      },
      "source": [
        "str = \"this2009\";  \n",
        "print (str.isnumeric())\n",
        "\n",
        "str = \"23443434\";\n",
        "print (str.isnumeric())"
      ],
      "id": "9bad371e",
      "execution_count": null,
      "outputs": [
        {
          "name": "stdout",
          "output_type": "stream",
          "text": [
            "False\n",
            "True\n"
          ]
        }
      ]
    },
    {
      "cell_type": "code",
      "metadata": {
        "id": "6f8e242a",
        "outputId": "5787b1be-18bb-4638-dd1f-9ed60150285e"
      },
      "source": [
        "str = \"  \"; \n",
        "print (str.isspace())\n",
        "\n",
        "str = \"This is string example....wow!!!\";\n",
        "print (str.isspace())"
      ],
      "id": "6f8e242a",
      "execution_count": null,
      "outputs": [
        {
          "name": "stdout",
          "output_type": "stream",
          "text": [
            "True\n",
            "False\n"
          ]
        }
      ]
    },
    {
      "cell_type": "code",
      "metadata": {
        "id": "a6c16bc6",
        "outputId": "ff0ce8c9-467a-46b6-8670-0f70b6bae39b"
      },
      "source": [
        "str = \"This Is String Example...Wow!!!\";\n",
        "print (str.istitle())\n",
        "\n",
        "str = \"This is string example....wow!!!\";\n",
        "print (str.istitle())"
      ],
      "id": "a6c16bc6",
      "execution_count": null,
      "outputs": [
        {
          "name": "stdout",
          "output_type": "stream",
          "text": [
            "True\n",
            "False\n"
          ]
        }
      ]
    },
    {
      "cell_type": "code",
      "metadata": {
        "id": "e2390df2",
        "outputId": "5fd99972-702c-4e39-d7ac-21347db0a003"
      },
      "source": [
        "\n",
        "str = \"THIS IS STRING EXAMPLE....WOW!!!\"; \n",
        "print (str.isupper())\n",
        "\n",
        "str = \"THIS is string example....wow!!!\";\n",
        "print (str.isupper())"
      ],
      "id": "e2390df2",
      "execution_count": null,
      "outputs": [
        {
          "name": "stdout",
          "output_type": "stream",
          "text": [
            "True\n",
            "False\n"
          ]
        }
      ]
    },
    {
      "cell_type": "code",
      "metadata": {
        "id": "1af7db5c",
        "outputId": "92c1ba25-be4c-4a0d-852f-806f5201c749"
      },
      "source": [
        "#join() returns a string in which the string elements of sequence have been joined by str separator.\n",
        "\n",
        "s = \"  *  *  \";\n",
        "seq = (\"abc\", \"bttt\", \"cqweqe\"); # This is sequence of strings.\n",
        "print (s.join( seq ))"
      ],
      "id": "1af7db5c",
      "execution_count": null,
      "outputs": [
        {
          "name": "stdout",
          "output_type": "stream",
          "text": [
            "abc  *  *  bttt  *  *  cqweqe\n"
          ]
        }
      ]
    },
    {
      "cell_type": "code",
      "metadata": {
        "id": "355a2d7c",
        "outputId": "1890b902-c136-44c9-eded-244d3895bcc2"
      },
      "source": [
        "str = \"this is string example....wow!!!\";\n",
        "print (\"Length of the string: \", len(str))"
      ],
      "id": "355a2d7c",
      "execution_count": null,
      "outputs": [
        {
          "name": "stdout",
          "output_type": "stream",
          "text": [
            "Length of the string:  32\n"
          ]
        }
      ]
    },
    {
      "cell_type": "code",
      "metadata": {
        "id": "5cc3dcbb",
        "outputId": "4433cd36-6700-4726-d977-2f38b6862f2d"
      },
      "source": [
        "#lstrip() returns a copy of the string in which all chars have been stripped from the beginning of the string (default whitespace characters)\n",
        "\n",
        "str = \"     this is string example....wow!!!     \";\n",
        "print (str.lstrip())\n",
        "str = \"88888888this is string example....wow!!!999999\";\n",
        "print (str.lstrip('8'))\n",
        "print (str.rstrip('9'))\n",
        "\n",
        "\n"
      ],
      "id": "5cc3dcbb",
      "execution_count": null,
      "outputs": [
        {
          "name": "stdout",
          "output_type": "stream",
          "text": [
            "this is string example....wow!!!     \n",
            "this is string example....wow!!!999999\n",
            "88888888this is string example....wow!!!\n"
          ]
        }
      ]
    },
    {
      "cell_type": "code",
      "metadata": {
        "id": "8fecbd1e",
        "outputId": "2539efaa-456f-4994-fab5-f4f642e07f10"
      },
      "source": [
        "str = \"THIS IS STRING EXAMPLE....WOW!!!\";\n",
        "print (str.lower())"
      ],
      "id": "8fecbd1e",
      "execution_count": null,
      "outputs": [
        {
          "name": "stdout",
          "output_type": "stream",
          "text": [
            "this is string example....wow!!!\n"
          ]
        }
      ]
    },
    {
      "cell_type": "code",
      "metadata": {
        "id": "525011b2",
        "outputId": "51101b4a-31b6-4bbc-e6f1-7e0ddc96446a"
      },
      "source": [
        "#returns largest character\n",
        "str = \"check....wow!!!\";\n",
        "print (\"Max character: \" + max(str))\n",
        "\n",
        "str = \"shabnam....!!!\";\n",
        "print (\"Max character: \" + max(str))"
      ],
      "id": "525011b2",
      "execution_count": null,
      "outputs": [
        {
          "name": "stdout",
          "output_type": "stream",
          "text": [
            "Max character: w\n",
            "Max character: s\n"
          ]
        }
      ]
    },
    {
      "cell_type": "code",
      "metadata": {
        "id": "527b32f4",
        "outputId": "f36db29d-facf-4f0d-e613-c5c2402eb169"
      },
      "source": [
        "str = \"this-is-real-string-example....wow!!!\";\n",
        "print (\"Min character: \" + min(str))\n",
        "\n",
        "str = \"this-is-a-string-example....wow!!!\";\n",
        "print (\"Min character: \" + min(str))"
      ],
      "id": "527b32f4",
      "execution_count": null,
      "outputs": [
        {
          "name": "stdout",
          "output_type": "stream",
          "text": [
            "Min character: !\n",
            "Min character: !\n"
          ]
        }
      ]
    },
    {
      "cell_type": "code",
      "metadata": {
        "id": "720b1d77",
        "outputId": "df6884b2-a307-44b9-da6e-8e0648407b12"
      },
      "source": [
        "#str.replace(old, new[, max])\n",
        "\n",
        "str = \"this is string example....wow!!! this is really string\"\n",
        "print (str.replace(\"is\", \"was\"))\n",
        "print (str.replace(\"is\", \"was\", 3))"
      ],
      "id": "720b1d77",
      "execution_count": null,
      "outputs": [
        {
          "name": "stdout",
          "output_type": "stream",
          "text": [
            "thwas was string example....wow!!! thwas was really string\n",
            "thwas was string example....wow!!! thwas is really string\n"
          ]
        }
      ]
    },
    {
      "cell_type": "code",
      "metadata": {
        "id": "22b8a873",
        "outputId": "ece4d148-17d3-4126-8229-71f818b69fad"
      },
      "source": [
        "str = \"this is string example....wow!!!\";\n",
        "print (str.startswith( 'this' ))\n",
        "print (str.startswith( 'is', 2, 4 ))\n",
        "print (str.startswith( 'this', 2, 4 ))"
      ],
      "id": "22b8a873",
      "execution_count": null,
      "outputs": [
        {
          "name": "stdout",
          "output_type": "stream",
          "text": [
            "True\n",
            "True\n",
            "False\n"
          ]
        }
      ]
    },
    {
      "cell_type": "code",
      "metadata": {
        "id": "be5dc6d3",
        "outputId": "6d6b3d51-3d60-48c9-b4ea-d7f02fcb4036"
      },
      "source": [
        "str = \"this is string example....wow!!!\";\n",
        "print (\"str.capitalize() : \", str.upper())"
      ],
      "id": "be5dc6d3",
      "execution_count": null,
      "outputs": [
        {
          "name": "stdout",
          "output_type": "stream",
          "text": [
            "str.capitalize() :  THIS IS STRING EXAMPLE....WOW!!!\n"
          ]
        }
      ]
    },
    {
      "cell_type": "code",
      "metadata": {
        "id": "fff92a6e",
        "outputId": "90fb0443-b9af-4b87-f80f-8c8504e8d44b"
      },
      "source": [
        "str = \"this is string example....wow!!!\";\n",
        "print (str.swapcase())\n",
        "\n",
        "str = \"THIS IS STRING EXAMPLE....WOW!!!\";\n",
        "print (str.swapcase())"
      ],
      "id": "fff92a6e",
      "execution_count": null,
      "outputs": [
        {
          "name": "stdout",
          "output_type": "stream",
          "text": [
            "THIS IS STRING EXAMPLE....WOW!!!\n",
            "this is string example....wow!!!\n"
          ]
        }
      ]
    },
    {
      "cell_type": "code",
      "metadata": {
        "id": "24cc3914"
      },
      "source": [
        ""
      ],
      "id": "24cc3914",
      "execution_count": null,
      "outputs": []
    },
    {
      "cell_type": "code",
      "metadata": {
        "id": "db06d76a"
      },
      "source": [
        ""
      ],
      "id": "db06d76a",
      "execution_count": null,
      "outputs": []
    }
  ]
}