{
  "nbformat": 4,
  "nbformat_minor": 5,
  "metadata": {
    "kernelspec": {
      "display_name": "Python 3",
      "language": "python",
      "name": "python3"
    },
    "language_info": {
      "codemirror_mode": {
        "name": "ipython",
        "version": 3
      },
      "file_extension": ".py",
      "mimetype": "text/x-python",
      "name": "python",
      "nbconvert_exporter": "python",
      "pygments_lexer": "ipython3",
      "version": "3.8.8"
    },
    "colab": {
      "name": "numpy array search.ipynb",
      "provenance": [],
      "include_colab_link": true
    }
  },
  "cells": [
    {
      "cell_type": "markdown",
      "metadata": {
        "id": "view-in-github",
        "colab_type": "text"
      },
      "source": [
        "<a href=\"https://colab.research.google.com/github/saimouli12/DAP/blob/main/numpy_array_search.ipynb\" target=\"_parent\"><img src=\"https://colab.research.google.com/assets/colab-badge.svg\" alt=\"Open In Colab\"/></a>"
      ]
    },
    {
      "cell_type": "code",
      "metadata": {
        "id": "f85dc9df",
        "outputId": "bbbd893c-6f2f-4af3-8559-0b733ca080a8"
      },
      "source": [
        "import numpy as np\n",
        "\n",
        "arr = np.array([1, 2, 3, 4, 5, 4, 4])\n",
        "\n",
        "x = np.where(arr == 4)\n",
        "\n",
        "print(x) "
      ],
      "id": "f85dc9df",
      "execution_count": null,
      "outputs": [
        {
          "name": "stdout",
          "output_type": "stream",
          "text": [
            "(array([3, 5, 6], dtype=int64),)\n"
          ]
        }
      ]
    },
    {
      "cell_type": "code",
      "metadata": {
        "id": "da13152e",
        "outputId": "cd13c658-95b8-4a63-b48e-576d65faf80e"
      },
      "source": [
        "import numpy as np\n",
        "\n",
        "arr = np.array([1, 2, 3, 4, 5, 6, 7, 8])\n",
        "\n",
        "x = np.where(arr%2 == 0)\n",
        "\n",
        "print(x) "
      ],
      "id": "da13152e",
      "execution_count": null,
      "outputs": [
        {
          "name": "stdout",
          "output_type": "stream",
          "text": [
            "(array([1, 3, 5, 7], dtype=int64),)\n"
          ]
        }
      ]
    },
    {
      "cell_type": "code",
      "metadata": {
        "id": "0a83a0d0",
        "outputId": "ddabf971-152f-4e51-b552-6f28b4357106"
      },
      "source": [
        "import numpy as np\n",
        "\n",
        "arr = np.array([1, 2, 3, 4, 5, 6, 7, 8])\n",
        "\n",
        "x = np.where(arr%2 == 1)\n",
        "\n",
        "print(x) "
      ],
      "id": "0a83a0d0",
      "execution_count": null,
      "outputs": [
        {
          "name": "stdout",
          "output_type": "stream",
          "text": [
            "(array([0, 2, 4, 6], dtype=int64),)\n"
          ]
        }
      ]
    },
    {
      "cell_type": "code",
      "metadata": {
        "id": "a7105684",
        "outputId": "a9eb9e4f-3509-457a-aeb9-6732142894d5"
      },
      "source": [
        "#The number 7 should be inserted on index 1 to remain the sort order.\n",
        "#The method starts the search from the left and returns the first index where the number 7 is no longer larger than the next value.\n",
        "\n",
        "import numpy as np\n",
        "\n",
        "arr = np.array([6, 7, 18, 19])\n",
        "\n",
        "x = np.searchsorted(arr,11)\n",
        "\n",
        "print(x) "
      ],
      "id": "a7105684",
      "execution_count": null,
      "outputs": [
        {
          "name": "stdout",
          "output_type": "stream",
          "text": [
            "2\n"
          ]
        }
      ]
    },
    {
      "cell_type": "code",
      "metadata": {
        "id": "fc4fb93a",
        "outputId": "80493dca-547d-4c2f-f0c7-809b232dec18"
      },
      "source": [
        "import numpy as np\n",
        "\n",
        "arr = np.array([6, 7, 18, 29])\n",
        "\n",
        "x = np.searchsorted(arr, 19, side='right')\n",
        "\n",
        "print(x) "
      ],
      "id": "fc4fb93a",
      "execution_count": null,
      "outputs": [
        {
          "name": "stdout",
          "output_type": "stream",
          "text": [
            "3\n"
          ]
        }
      ]
    },
    {
      "cell_type": "code",
      "metadata": {
        "id": "dcf91085",
        "outputId": "7606d970-ce34-4d8e-ce88-f501eb747076"
      },
      "source": [
        "import numpy as np\n",
        "\n",
        "arr = np.array([1, 3, 5, 7])\n",
        "\n",
        "x = np.searchsorted(arr, [2, 4, 6])\n",
        "\n",
        "print(x) "
      ],
      "id": "dcf91085",
      "execution_count": null,
      "outputs": [
        {
          "name": "stdout",
          "output_type": "stream",
          "text": [
            "[1 2 3]\n"
          ]
        }
      ]
    },
    {
      "cell_type": "code",
      "metadata": {
        "id": "ce0476e6"
      },
      "source": [
        ""
      ],
      "id": "ce0476e6",
      "execution_count": null,
      "outputs": []
    }
  ]
}