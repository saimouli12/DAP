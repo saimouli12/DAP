{
  "nbformat": 4,
  "nbformat_minor": 5,
  "metadata": {
    "kernelspec": {
      "display_name": "Python 3",
      "language": "python",
      "name": "python3"
    },
    "language_info": {
      "codemirror_mode": {
        "name": "ipython",
        "version": 3
      },
      "file_extension": ".py",
      "mimetype": "text/x-python",
      "name": "python",
      "nbconvert_exporter": "python",
      "pygments_lexer": "ipython3",
      "version": "3.8.8"
    },
    "colab": {
      "name": " numpy.ipynb",
      "provenance": [],
      "include_colab_link": true
    }
  },
  "cells": [
    {
      "cell_type": "markdown",
      "metadata": {
        "id": "view-in-github",
        "colab_type": "text"
      },
      "source": [
        "<a href=\"https://colab.research.google.com/github/saimouli12/DAP/blob/main/numpy.ipynb\" target=\"_parent\"><img src=\"https://colab.research.google.com/assets/colab-badge.svg\" alt=\"Open In Colab\"/></a>"
      ]
    },
    {
      "cell_type": "code",
      "metadata": {
        "id": "2d08d9ce",
        "outputId": "d317e706-4063-4d0e-d87d-c1d3f0ddfcfb"
      },
      "source": [
        "import numpy as npa \n",
        "npa= np.array([1, 2, 3])\n",
        "print(npa)"
      ],
      "id": "2d08d9ce",
      "execution_count": null,
      "outputs": [
        {
          "name": "stdout",
          "output_type": "stream",
          "text": [
            "[1 2 3]\n"
          ]
        }
      ]
    },
    {
      "cell_type": "code",
      "metadata": {
        "id": "941afc8f",
        "outputId": "bc30a1e5-08e6-49d2-df78-f6a16d6b59bb"
      },
      "source": [
        "import numpy as npp\n",
        "a = npp.array([[1 , 2, 3, 4], [5, 6, 7, 8], [9, 10, 11, 12]])\n",
        "print(a)"
      ],
      "id": "941afc8f",
      "execution_count": null,
      "outputs": [
        {
          "name": "stdout",
          "output_type": "stream",
          "text": [
            "[[ 1  2  3  4]\n",
            " [ 5  6  7  8]\n",
            " [ 9 10 11 12]]\n"
          ]
        }
      ]
    },
    {
      "cell_type": "code",
      "metadata": {
        "id": "7584a380",
        "outputId": "a40ef49b-3b5a-42c4-edc1-af0c650c00ca"
      },
      "source": [
        "import numpy as np\n",
        "a=np.zeros(2)\n",
        "print(a)"
      ],
      "id": "7584a380",
      "execution_count": null,
      "outputs": [
        {
          "name": "stdout",
          "output_type": "stream",
          "text": [
            "[0. 0.]\n"
          ]
        }
      ]
    },
    {
      "cell_type": "code",
      "metadata": {
        "id": "7536046a",
        "outputId": "5cbf67ce-c031-42cb-ad3e-3a4555b025a7"
      },
      "source": [
        "import numpy as np\n",
        "a=np.ones(4)\n",
        "print(a)"
      ],
      "id": "7536046a",
      "execution_count": null,
      "outputs": [
        {
          "name": "stdout",
          "output_type": "stream",
          "text": [
            "[1. 1. 1. 1.]\n"
          ]
        }
      ]
    },
    {
      "cell_type": "code",
      "metadata": {
        "id": "0b92a9c5",
        "outputId": "f657b9e9-3b97-43a6-8056-d8467361bcca"
      },
      "source": [
        "import numpy as np\n",
        "ab=np.empty(4)\n",
        "print(ab)"
      ],
      "id": "0b92a9c5",
      "execution_count": null,
      "outputs": [
        {
          "name": "stdout",
          "output_type": "stream",
          "text": [
            "[1. 1. 1. 1.]\n"
          ]
        }
      ]
    },
    {
      "cell_type": "code",
      "metadata": {
        "id": "a9694ba3",
        "outputId": "e3a7f088-7768-4827-e45e-da0f689d9bf2"
      },
      "source": [
        "import numpy as np\n",
        "a=np.arange(7)\n",
        "print(a)"
      ],
      "id": "a9694ba3",
      "execution_count": null,
      "outputs": [
        {
          "name": "stdout",
          "output_type": "stream",
          "text": [
            "[0 1 2 3 4 5 6]\n"
          ]
        }
      ]
    },
    {
      "cell_type": "code",
      "metadata": {
        "id": "bb3a84f0",
        "outputId": "5915ec74-6197-4c9c-aa1b-a0f36238ef25"
      },
      "source": [
        "import numpy as np\n",
        "a=np.arange(2,9,2)\n",
        "print(a)"
      ],
      "id": "bb3a84f0",
      "execution_count": null,
      "outputs": [
        {
          "name": "stdout",
          "output_type": "stream",
          "text": [
            "[2 4 6 8]\n"
          ]
        }
      ]
    },
    {
      "cell_type": "code",
      "metadata": {
        "id": "83f72ecc",
        "outputId": "3881b3d8-fd0e-4b70-f31f-407c59a09154"
      },
      "source": [
        "y = np.ones(2, dtype=int)\n",
        "print(y)\n",
        "y"
      ],
      "id": "83f72ecc",
      "execution_count": null,
      "outputs": [
        {
          "name": "stdout",
          "output_type": "stream",
          "text": [
            "[1 1]\n"
          ]
        },
        {
          "data": {
            "text/plain": [
              "array([1, 1])"
            ]
          },
          "execution_count": 25,
          "metadata": {},
          "output_type": "execute_result"
        }
      ]
    },
    {
      "cell_type": "code",
      "metadata": {
        "id": "712f9bf9",
        "outputId": "f9a6621f-caa7-478c-c304-b8d1e90646d0"
      },
      "source": [
        "arr = np.array([1, 2, 3, 4, 5, 6, 7, 8])\n",
        "print(arr)"
      ],
      "id": "712f9bf9",
      "execution_count": null,
      "outputs": [
        {
          "name": "stdout",
          "output_type": "stream",
          "text": [
            "[1 2 3 4 5 6 7 8]\n"
          ]
        }
      ]
    },
    {
      "cell_type": "code",
      "metadata": {
        "id": "e07d6ebf",
        "outputId": "875cb31d-a17d-4acd-d1bd-958a902682a2"
      },
      "source": [
        "a = np.array([1, 2, 3, 4, 5, 6, 7, 8])\n",
        "print(a)\n",
        "\n",
        "\n",
        "a=np.delete(a, 1)\n",
        "print(a)"
      ],
      "id": "e07d6ebf",
      "execution_count": null,
      "outputs": [
        {
          "name": "stdout",
          "output_type": "stream",
          "text": [
            "[1 2 3 4 5 6 7 8]\n",
            "[1 3 4 5 6 7 8]\n"
          ]
        }
      ]
    },
    {
      "cell_type": "code",
      "metadata": {
        "id": "d40b9748",
        "outputId": "99d483ea-def1-470e-8953-3afe5e48958b"
      },
      "source": [
        "a = np.array([19, 22, 34, 14, 55, 76, 47, 8])\n",
        "print(a)\n",
        "\n",
        "\n",
        "a=np.sort(a)\n",
        "print(a)"
      ],
      "id": "d40b9748",
      "execution_count": null,
      "outputs": [
        {
          "name": "stdout",
          "output_type": "stream",
          "text": [
            "[19 22 34 14 55 76 47  8]\n",
            "[ 8 14 19 22 34 47 55 76]\n"
          ]
        }
      ]
    },
    {
      "cell_type": "code",
      "metadata": {
        "id": "c353aedc",
        "outputId": "6cad2ec7-dfd0-47de-ff77-391208690f9f"
      },
      "source": [
        "import numpy as np\n",
        "\n",
        "arr = np.array([[1, 2, 3], [4, 5, 6]])\n",
        "a=arr.ndim\n",
        "print(arr) \n",
        "print(\"dimensions = \", a)"
      ],
      "id": "c353aedc",
      "execution_count": null,
      "outputs": [
        {
          "name": "stdout",
          "output_type": "stream",
          "text": [
            "[[1 2 3]\n",
            " [4 5 6]]\n",
            "dimensions =  2\n"
          ]
        }
      ]
    },
    {
      "cell_type": "code",
      "metadata": {
        "id": "ae3fbb3d",
        "outputId": "7b56a430-78cd-4674-e53a-f42c35ce0ed4"
      },
      "source": [
        "import numpy as np\n",
        "\n",
        "arr = np.array([[[1, 2, 3], [4, 5, 6]], [[11, 22, 33], [44, 55, 66]]])\n",
        "a=arr.ndim\n",
        "b=arr.size\n",
        "print(arr) \n",
        "print(\"dimensions = \", a)\n",
        "print(\"size = \", b)\n"
      ],
      "id": "ae3fbb3d",
      "execution_count": null,
      "outputs": [
        {
          "name": "stdout",
          "output_type": "stream",
          "text": [
            "[[[ 1  2  3]\n",
            "  [ 4  5  6]]\n",
            "\n",
            " [[11 22 33]\n",
            "  [44 55 66]]]\n",
            "dimensions =  3\n",
            "size =  12\n"
          ]
        }
      ]
    },
    {
      "cell_type": "code",
      "metadata": {
        "id": "385f3420",
        "outputId": "32dc462c-3c1d-4a55-fb8f-5e9893b37ce3"
      },
      "source": [
        "import numpy as np\n",
        "\n",
        "a = np.array(42)\n",
        "b = np.array([1, 2, 3, 4, 5])\n",
        "c = np.array([[1, 2, 3], [4, 5, 6]])\n",
        "d = np.array([[[1, 2, 3], [4, 5, 6]], [[1, 2, 3], [4, 5, 6]]])\n",
        "\n",
        "print(a)\n",
        "print(\"dimension= \", a.ndim)\n",
        "print(b)\n",
        "print(\"dimension= \", b.ndim)\n",
        "print(c)\n",
        "print(\"dimension= \", c.ndim)\n",
        "print(d)\n",
        "print(\"dimension= \", d.ndim)\n"
      ],
      "id": "385f3420",
      "execution_count": null,
      "outputs": [
        {
          "name": "stdout",
          "output_type": "stream",
          "text": [
            "42\n",
            "dimension=  0\n",
            "[1 2 3 4 5]\n",
            "dimension=  1\n",
            "[[1 2 3]\n",
            " [4 5 6]]\n",
            "dimension=  2\n",
            "[[[1 2 3]\n",
            "  [4 5 6]]\n",
            "\n",
            " [[1 2 3]\n",
            "  [4 5 6]]]\n",
            "dimension=  3\n"
          ]
        }
      ]
    },
    {
      "cell_type": "code",
      "metadata": {
        "id": "301ac4c6",
        "outputId": "219a7246-8c46-4b50-f0c9-eb322504e3c3"
      },
      "source": [
        "import numpy as np\n",
        "\n",
        "arr = np.array([[1, 2, 3, 4], [5, 6, 7, 8]])\n",
        "\n",
        "print(arr.shape) "
      ],
      "id": "301ac4c6",
      "execution_count": null,
      "outputs": [
        {
          "name": "stdout",
          "output_type": "stream",
          "text": [
            "(2, 4)\n"
          ]
        }
      ]
    },
    {
      "cell_type": "code",
      "metadata": {
        "id": "6a06420e",
        "outputId": "9bc101fb-805d-4e1c-896d-978fe43f861e"
      },
      "source": [
        "a = np.arange(6)\n",
        "print(a)\n",
        "\n",
        "b = a.reshape(3,2)\n",
        "print(b)"
      ],
      "id": "6a06420e",
      "execution_count": null,
      "outputs": [
        {
          "name": "stdout",
          "output_type": "stream",
          "text": [
            "[0 1 2 3 4 5]\n",
            "[[0 1]\n",
            " [2 3]\n",
            " [4 5]]\n"
          ]
        }
      ]
    },
    {
      "cell_type": "code",
      "metadata": {
        "id": "a8d2d0c7"
      },
      "source": [
        ""
      ],
      "id": "a8d2d0c7",
      "execution_count": null,
      "outputs": []
    }
  ]
}