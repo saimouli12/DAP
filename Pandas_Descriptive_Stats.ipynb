{
  "nbformat": 4,
  "nbformat_minor": 5,
  "metadata": {
    "kernelspec": {
      "display_name": "Python 3",
      "language": "python",
      "name": "python3"
    },
    "language_info": {
      "codemirror_mode": {
        "name": "ipython",
        "version": 3
      },
      "file_extension": ".py",
      "mimetype": "text/x-python",
      "name": "python",
      "nbconvert_exporter": "python",
      "pygments_lexer": "ipython3",
      "version": "3.8.8"
    },
    "colab": {
      "name": " Pandas-Descriptive Stats.ipynb",
      "provenance": [],
      "include_colab_link": true
    }
  },
  "cells": [
    {
      "cell_type": "markdown",
      "metadata": {
        "id": "view-in-github",
        "colab_type": "text"
      },
      "source": [
        "<a href=\"https://colab.research.google.com/github/saimouli12/DAP/blob/main/Pandas_Descriptive_Stats.ipynb\" target=\"_parent\"><img src=\"https://colab.research.google.com/assets/colab-badge.svg\" alt=\"Open In Colab\"/></a>"
      ]
    },
    {
      "cell_type": "code",
      "metadata": {
        "id": "38ae6fb8",
        "outputId": "0d2c84ae-7a1a-4ead-ad11-12014b0132ca"
      },
      "source": [
        "import pandas as pd\n",
        "import numpy as np\n",
        "\n",
        "#Create a Dictionary of series\n",
        "d = {'Name':pd.Series(['Tom','James','Ricky','Vin','Steve','Smith','Jack',\n",
        "   'Lee','David','Gasper','Betina','Andres']),\n",
        "   'Age':pd.Series([25,26,25,23,30,29,23,34,40,30,51,46]),\n",
        "   'Rating':pd.Series([4.23,3.24,3.98,2.56,3.20,4.6,3.8,3.78,2.98,4.80,4.10,3.65])\n",
        "}\n",
        "\n",
        "#Create a DataFrame\n",
        "df = pd.DataFrame(d)\n",
        "print (df)"
      ],
      "id": "38ae6fb8",
      "execution_count": null,
      "outputs": [
        {
          "name": "stdout",
          "output_type": "stream",
          "text": [
            "      Name  Age  Rating\n",
            "0      Tom   25    4.23\n",
            "1    James   26    3.24\n",
            "2    Ricky   25    3.98\n",
            "3      Vin   23    2.56\n",
            "4    Steve   30    3.20\n",
            "5    Smith   29    4.60\n",
            "6     Jack   23    3.80\n",
            "7      Lee   34    3.78\n",
            "8    David   40    2.98\n",
            "9   Gasper   30    4.80\n",
            "10  Betina   51    4.10\n",
            "11  Andres   46    3.65\n"
          ]
        }
      ]
    },
    {
      "cell_type": "code",
      "metadata": {
        "id": "4b381c8f",
        "outputId": "2aec16e3-e517-40fb-d203-2a33a27cedc9"
      },
      "source": [
        "import pandas as pd\n",
        "import numpy as np\n",
        " \n",
        "#Create a Dictionary of series\n",
        "d = {'Name':pd.Series(['Tom','James','Ricky','Vin','Steve','Smith','Jack',\n",
        "   'Lee','David','Gasper','Betina','Andres']),\n",
        "   'Age':pd.Series([25,26,25,23,30,29,23,34,40,30,51,46]),\n",
        "   'Rating':pd.Series([4.23,3.24,3.98,2.56,3.20,4.6,3.8,3.78,2.98,4.80,4.10,3.65])\n",
        "}\n",
        "\n",
        "#Create a DataFrame\n",
        "df = pd.DataFrame(d)\n",
        "print (df.sum())\n"
      ],
      "id": "4b381c8f",
      "execution_count": null,
      "outputs": [
        {
          "name": "stdout",
          "output_type": "stream",
          "text": [
            "Name      TomJamesRickyVinSteveSmithJackLeeDavidGasperBe...\n",
            "Age                                                     382\n",
            "Rating                                                44.92\n",
            "dtype: object\n"
          ]
        }
      ]
    },
    {
      "cell_type": "code",
      "metadata": {
        "id": "0d4157ab",
        "outputId": "cea9693e-6400-49d2-cebb-1751236a2643"
      },
      "source": [
        "import pandas as pd\n",
        "import numpy as np\n",
        " \n",
        "#Create a Dictionary of series\n",
        "d = {'Name':pd.Series(['Tom','James','Ricky','Vin','Steve','Smith','Jack',\n",
        "   'Lee','David','Gasper','Betina','Andres']),\n",
        "   'Age':pd.Series([25,26,25,23,30,29,23,34,40,30,51,46]),\n",
        "   'Rating':pd.Series([4.23,3.24,3.98,2.56,3.20,4.6,3.8,3.78,2.98,4.80,4.10,3.65])\n",
        "}\n",
        " \n",
        "#Create a DataFrame\n",
        "df = pd.DataFrame(d)\n",
        "print (df.sum(1))"
      ],
      "id": "0d4157ab",
      "execution_count": null,
      "outputs": [
        {
          "name": "stdout",
          "output_type": "stream",
          "text": [
            "0     29.23\n",
            "1     29.24\n",
            "2     28.98\n",
            "3     25.56\n",
            "4     33.20\n",
            "5     33.60\n",
            "6     26.80\n",
            "7     37.78\n",
            "8     42.98\n",
            "9     34.80\n",
            "10    55.10\n",
            "11    49.65\n",
            "dtype: float64\n"
          ]
        }
      ]
    },
    {
      "cell_type": "code",
      "metadata": {
        "id": "8fca972c",
        "outputId": "b7fa3308-5384-4a5e-9c2c-682e06e6432b"
      },
      "source": [
        "import pandas as pd\n",
        "import numpy as np\n",
        "\n",
        "#Create a Dictionary of series\n",
        "d = {'Name':pd.Series(['Tom','James','Ricky','Vin','Steve','Smith','Jack',\n",
        "   'Lee','David','Gasper','Betina','Andres']),\n",
        "   'Age':pd.Series([25,26,25,23,30,29,23,34,40,30,51,46]),\n",
        "   'Rating':pd.Series([4.23,3.24,3.98,2.56,3.20,4.6,3.8,3.78,2.98,4.80,4.10,3.65])\n",
        "}\n",
        "\n",
        "#Create a DataFrame\n",
        "df = pd.DataFrame(d)\n",
        "print (df.mean())"
      ],
      "id": "8fca972c",
      "execution_count": null,
      "outputs": [
        {
          "name": "stdout",
          "output_type": "stream",
          "text": [
            "Age       31.833333\n",
            "Rating     3.743333\n",
            "dtype: float64\n"
          ]
        }
      ]
    },
    {
      "cell_type": "code",
      "metadata": {
        "id": "d2f446d5",
        "outputId": "3ac9a861-5970-43f1-a168-22c6d53d9040"
      },
      "source": [
        "import pandas as pd\n",
        "import numpy as np\n",
        "\n",
        "#Create a Dictionary of series\n",
        "d = {'Name':pd.Series(['Tom','James','Ricky','Vin','Steve','Smith','Jack',\n",
        "   'Lee','David','Gasper','Betina','Andres']),\n",
        "   'Age':pd.Series([25,26,25,23,30,29,23,34,40,30,51,46]),\n",
        "   'Rating':pd.Series([4.23,3.24,3.98,2.56,3.20,4.6,3.8,3.78,2.98,4.80,4.10,3.65])\n",
        "}\n",
        "\n",
        "#Create a DataFrame\n",
        "df = pd.DataFrame(d)\n",
        "print (df.std())"
      ],
      "id": "d2f446d5",
      "execution_count": null,
      "outputs": [
        {
          "name": "stdout",
          "output_type": "stream",
          "text": [
            "Age       9.232682\n",
            "Rating    0.661628\n",
            "dtype: float64\n"
          ]
        }
      ]
    },
    {
      "cell_type": "code",
      "metadata": {
        "id": "df261125",
        "outputId": "b896b164-93c3-4a74-a611-1853a7697bdb"
      },
      "source": [
        "import pandas as pd\n",
        "import numpy as np\n",
        "\n",
        "#Create a Dictionary of series\n",
        "d = {'Name':pd.Series(['Tom','James','Ricky','Vin','Steve','Smith','Jack',\n",
        "   'Lee','David','Gasper','Betina','Andres']),\n",
        "   'Age':pd.Series([25,26,25,23,30,29,23,34,40,30,51,46]),\n",
        "   'Rating':pd.Series([4.23,3.24,3.98,2.56,3.20,4.6,3.8,3.78,2.98,4.80,4.10,3.65])\n",
        "}\n",
        "\n",
        "#Create a DataFrame\n",
        "df = pd.DataFrame(d)\n",
        "print (df.describe())"
      ],
      "id": "df261125",
      "execution_count": null,
      "outputs": [
        {
          "name": "stdout",
          "output_type": "stream",
          "text": [
            "             Age     Rating\n",
            "count  12.000000  12.000000\n",
            "mean   31.833333   3.743333\n",
            "std     9.232682   0.661628\n",
            "min    23.000000   2.560000\n",
            "25%    25.000000   3.230000\n",
            "50%    29.500000   3.790000\n",
            "75%    35.500000   4.132500\n",
            "max    51.000000   4.800000\n"
          ]
        }
      ]
    },
    {
      "cell_type": "code",
      "metadata": {
        "id": "8fd0bec0",
        "outputId": "48dde539-ad5c-4487-946d-b2954a6d3027"
      },
      "source": [
        "import pandas as pd\n",
        "import numpy as np\n",
        "\n",
        "#Create a Dictionary of series\n",
        "d = {'Name':pd.Series(['Tommy','Johny','Ricky','Don','Steve','Smith','Jack',\n",
        "   'Lee','David','Joe','Tom','Vin']),\n",
        "   'Age':pd.Series([25,26,25,23,30,29,23,34,40,30,51,46]),\n",
        "   'Rating':pd.Series([4.23,3.24,3.98,2.56,3.20,4.6,3.8,3.78,2.98,4.80,4.10,3.65])\n",
        "}\n",
        "\n",
        "#Create a DataFrame\n",
        "df = pd.DataFrame(d)\n",
        "print (df.describe(include=['object']))"
      ],
      "id": "8fd0bec0",
      "execution_count": null,
      "outputs": [
        {
          "name": "stdout",
          "output_type": "stream",
          "text": [
            "       Name\n",
            "count    12\n",
            "unique   12\n",
            "top     Vin\n",
            "freq      1\n"
          ]
        }
      ]
    },
    {
      "cell_type": "code",
      "metadata": {
        "id": "16d755f9",
        "outputId": "b92fb0ad-9d34-4f1d-d09e-f1c6ef3679e7"
      },
      "source": [
        "import pandas as pd\n",
        "import numpy as np\n",
        "\n",
        "#Create a Dictionary of series\n",
        "d = {'Name':pd.Series(['Tom','James','Ricky','Vin','Steve','Smith','Jack',\n",
        "   'Lee','David','Gasper','Betina','Andres']),\n",
        "   'Age':pd.Series([25,26,25,23,30,29,23,34,40,30,51,46]),\n",
        "   'Rating':pd.Series([4.23,3.24,3.98,2.56,3.20,4.6,3.8,3.78,2.98,4.80,4.10,3.65])\n",
        "}\n",
        "\n",
        "#Create a DataFrame\n",
        "df = pd.DataFrame(d)\n",
        "print (df. describe(include='all'))"
      ],
      "id": "16d755f9",
      "execution_count": null,
      "outputs": [
        {
          "name": "stdout",
          "output_type": "stream",
          "text": [
            "         Name        Age     Rating\n",
            "count      12  12.000000  12.000000\n",
            "unique     12        NaN        NaN\n",
            "top     James        NaN        NaN\n",
            "freq        1        NaN        NaN\n",
            "mean      NaN  31.833333   3.743333\n",
            "std       NaN   9.232682   0.661628\n",
            "min       NaN  23.000000   2.560000\n",
            "25%       NaN  25.000000   3.230000\n",
            "50%       NaN  29.500000   3.790000\n",
            "75%       NaN  35.500000   4.132500\n",
            "max       NaN  51.000000   4.800000\n"
          ]
        }
      ]
    },
    {
      "cell_type": "code",
      "metadata": {
        "id": "40c5ba5b",
        "outputId": "c70e64cf-fc98-4f5c-c177-ce9800552555"
      },
      "source": [
        "# Import package\n",
        "from pandas import DataFrame\n",
        "\n",
        "# Create DataFrame\n",
        "cart = {'Product': ['Mobile', 'AC', 'Mobile', 'Sofa', 'Laptop'],\n",
        "\t\t'Price': [20000, 28000, 22000, 19000, 45000],\n",
        "\t\t'Year': [2014, 2015, 2016, 2017, 2018]\n",
        "\t\t}\n",
        "df = DataFrame(cart, columns = ['Product', 'Price', 'Year'])\n",
        "\n",
        "# Original DataFrame\n",
        "print(\"Original DataFrame:\\n\", df)\n",
        "\n",
        "# Describing descriptive statistics of Price\n",
        "print(\"\\nDescriptive statistics of Price:\\n\")\n",
        "stats = df['Price'].describe()\n",
        "print(stats)\n"
      ],
      "id": "40c5ba5b",
      "execution_count": null,
      "outputs": [
        {
          "name": "stdout",
          "output_type": "stream",
          "text": [
            "Original DataFrame:\n",
            "   Product  Price  Year\n",
            "0  Mobile  20000  2014\n",
            "1      AC  28000  2015\n",
            "2  Mobile  22000  2016\n",
            "3    Sofa  19000  2017\n",
            "4  Laptop  45000  2018\n",
            "\n",
            "Descriptive statistics of Price:\n",
            "\n",
            "count        5.000000\n",
            "mean     26800.000000\n",
            "std      10756.393448\n",
            "min      19000.000000\n",
            "25%      20000.000000\n",
            "50%      22000.000000\n",
            "75%      28000.000000\n",
            "max      45000.000000\n",
            "Name: Price, dtype: float64\n"
          ]
        }
      ]
    },
    {
      "cell_type": "code",
      "metadata": {
        "id": "153f5aa9",
        "outputId": "7d2f0abf-88e5-4906-d3d9-3bf8ce489e48"
      },
      "source": [
        "# Import package\n",
        "\n",
        "\n",
        "# Create DataFrame\n",
        "cart = {'Product': ['Mobile', 'AC', 'Mobile', 'Sofa', 'Laptop'],\n",
        "\t\t'Price': [20000, 28000, 22000, 19000, 45000],\n",
        "\t\t'Year': [2014, 2015, 2016, 2017, 2018]\n",
        "\t\t}\n",
        "df = DataFrame(cart, columns = ['Product', 'Price', 'Year'])\n",
        "\n",
        "# Original DataFrame\n",
        "print(\"Original DataFrame:\\n\", df)\n",
        "\n",
        "# Describing descriptive statistics of Year\n",
        "print(\"\\nDescriptive statistics of year:\\n\")\n",
        "stats = df['Year'].describe()\n",
        "print(stats)\n"
      ],
      "id": "153f5aa9",
      "execution_count": null,
      "outputs": [
        {
          "name": "stdout",
          "output_type": "stream",
          "text": [
            "Original DataFrame:\n",
            "   Product  Price  Year\n",
            "0  Mobile  20000  2014\n",
            "1      AC  28000  2015\n",
            "2  Mobile  22000  2016\n",
            "3    Sofa  19000  2017\n",
            "4  Laptop  45000  2018\n",
            "\n",
            "Descriptive statistics of year:\n",
            "\n",
            "count       5.000000\n",
            "mean     2016.000000\n",
            "std         1.581139\n",
            "min      2014.000000\n",
            "25%      2015.000000\n",
            "50%      2016.000000\n",
            "75%      2017.000000\n",
            "max      2018.000000\n",
            "Name: Year, dtype: float64\n"
          ]
        }
      ]
    },
    {
      "cell_type": "code",
      "metadata": {
        "id": "4dc623a3",
        "outputId": "e9c15062-064e-4ebb-9105-f1fe0320e00c"
      },
      "source": [
        "\n",
        "\n",
        "# Create DataFrame\n",
        "cart = {'Product': ['Mobile', 'AC', 'Mobile', 'Sofa', 'Laptop'],\n",
        "\t\t'Price': [20000, 28000, 22000, 19000, 45000],\n",
        "\t\t'Year': [2014, 2015, 2016, 2017, 2018]\n",
        "\t\t}\n",
        "df = DataFrame(cart, columns = ['Product', 'Price', 'Year'])\n",
        "\n",
        "# Original DataFrame\n",
        "print(\"Original DataFrame:\\n\", df)\n",
        "\n",
        "# Describing descriptive statistics of whole dataframe\n",
        "print(\"\\nDescriptive statistics of whole dataframe:\\n\")\n",
        "stats = df.describe(include = 'all')\n",
        "print(stats)\n"
      ],
      "id": "4dc623a3",
      "execution_count": null,
      "outputs": [
        {
          "name": "stdout",
          "output_type": "stream",
          "text": [
            "Original DataFrame:\n",
            "   Product  Price  Year\n",
            "0  Mobile  20000  2014\n",
            "1      AC  28000  2015\n",
            "2  Mobile  22000  2016\n",
            "3    Sofa  19000  2017\n",
            "4  Laptop  45000  2018\n",
            "\n",
            "Descriptive statistics of whole dataframe:\n",
            "\n",
            "       Product         Price         Year\n",
            "count        5      5.000000     5.000000\n",
            "unique       4           NaN          NaN\n",
            "top     Mobile           NaN          NaN\n",
            "freq         2           NaN          NaN\n",
            "mean       NaN  26800.000000  2016.000000\n",
            "std        NaN  10756.393448     1.581139\n",
            "min        NaN  19000.000000  2014.000000\n",
            "25%        NaN  20000.000000  2015.000000\n",
            "50%        NaN  22000.000000  2016.000000\n",
            "75%        NaN  28000.000000  2017.000000\n",
            "max        NaN  45000.000000  2018.000000\n"
          ]
        }
      ]
    },
    {
      "cell_type": "code",
      "metadata": {
        "id": "4e8147b1",
        "outputId": "ad100bbc-777b-4f08-d078-bd1ba30fe3af"
      },
      "source": [
        "\n",
        "\n",
        "# Create DataFrame\n",
        "cart = {'Product': ['Mobile', 'AC', 'Mobile', 'Sofa', 'Laptop'],\n",
        "\t\t'Price': [20000, 28000, 22000, 19000, 45000],\n",
        "\t\t'Year': [2014, 2015, 2016, 2017, 2018]\n",
        "\t\t}\n",
        "df = DataFrame(cart, columns = ['Product', 'Price', 'Year'])\n",
        "\n",
        "# Original DataFrame\n",
        "print(\"Original DataFrame:\\n\", df)\n",
        "\n",
        "# Print Count of Price\n",
        "print(\"\\nCount of Price:\\n\")\n",
        "counts = df['Price'].count()\n",
        "print(counts)\n",
        "\n",
        "# Print mean of Price\n",
        "print(\"\\nMean of Price:\\n\")\n",
        "m = df['Price'].mean()\n",
        "print(m)\n",
        "\n",
        "# Print maximum value of Price\n",
        "print(\"\\nMaximum value of Price:\\n\")\n",
        "mx = df['Price'].max()\n",
        "print(m)\n",
        "\n",
        "# Print standard deviation of Price\n",
        "print(\"\\nStandard deviation of Price:\\n\")\n",
        "sd = df['Price'].std()\n",
        "print(sd)\n"
      ],
      "id": "4e8147b1",
      "execution_count": null,
      "outputs": [
        {
          "name": "stdout",
          "output_type": "stream",
          "text": [
            "Original DataFrame:\n",
            "   Product  Price  Year\n",
            "0  Mobile  20000  2014\n",
            "1      AC  28000  2015\n",
            "2  Mobile  22000  2016\n",
            "3    Sofa  19000  2017\n",
            "4  Laptop  45000  2018\n",
            "\n",
            "Count of Price:\n",
            "\n",
            "5\n",
            "\n",
            "Mean of Price:\n",
            "\n",
            "26800.0\n",
            "\n",
            "Maximum value of Price:\n",
            "\n",
            "26800.0\n",
            "\n",
            "Standard deviation of Price:\n",
            "\n",
            "10756.393447619885\n"
          ]
        }
      ]
    },
    {
      "cell_type": "code",
      "metadata": {
        "id": "6aa5dc7e"
      },
      "source": [
        ""
      ],
      "id": "6aa5dc7e",
      "execution_count": null,
      "outputs": []
    }
  ]
}