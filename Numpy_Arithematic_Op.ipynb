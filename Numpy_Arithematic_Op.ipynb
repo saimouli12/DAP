{
  "nbformat": 4,
  "nbformat_minor": 5,
  "metadata": {
    "kernelspec": {
      "display_name": "Python 3",
      "language": "python",
      "name": "python3"
    },
    "language_info": {
      "codemirror_mode": {
        "name": "ipython",
        "version": 3
      },
      "file_extension": ".py",
      "mimetype": "text/x-python",
      "name": "python",
      "nbconvert_exporter": "python",
      "pygments_lexer": "ipython3",
      "version": "3.8.8"
    },
    "colab": {
      "name": "Numpy Arithematic Op.ipynb",
      "provenance": [],
      "include_colab_link": true
    }
  },
  "cells": [
    {
      "cell_type": "markdown",
      "metadata": {
        "id": "view-in-github",
        "colab_type": "text"
      },
      "source": [
        "<a href=\"https://colab.research.google.com/github/saimouli12/DAP/blob/main/Numpy_Arithematic_Op.ipynb\" target=\"_parent\"><img src=\"https://colab.research.google.com/assets/colab-badge.svg\" alt=\"Open In Colab\"/></a>"
      ]
    },
    {
      "cell_type": "code",
      "metadata": {
        "id": "91bbf5de",
        "outputId": "3cdd95c8-ea9d-45e5-e3f9-9e2ca6c816cc"
      },
      "source": [
        "import numpy as np\n",
        "\n",
        "a=np.array(9)\n",
        "\n",
        "print(\"Print A= \",a)\n",
        "\n",
        "b=np.array([10,20,30])\n",
        "\n",
        "print(\"Print B= \", b)\n",
        "\n",
        "addition= np.add(a,b)\n",
        "\n",
        "print(\"After Addition =\", addition)\n",
        "\n",
        "sub=np.subtract(b,a)\n",
        "\n",
        "print(\"After Subtraction =\",sub)\n",
        "\n",
        "mul=np.multiply (a,b)\n",
        "\n",
        "print(\"After Multiplcation =\",mul)\n",
        "\n",
        "div=np.divide (b,a)\n",
        "\n",
        "print(\"After Division =\",div)\n",
        "\n",
        "div1=np.divide (b,5)\n",
        "\n",
        "print(\"After Division =\",div1)"
      ],
      "id": "91bbf5de",
      "execution_count": null,
      "outputs": [
        {
          "name": "stdout",
          "output_type": "stream",
          "text": [
            "Print A=  9\n",
            "Print B=  [10 20 30]\n",
            "After Addition = [19 29 39]\n",
            "After Subtraction = [ 1 11 21]\n",
            "After Multiplcation = [ 90 180 270]\n",
            "After Division = [1.11111111 2.22222222 3.33333333]\n",
            "After Division = [2. 4. 6.]\n"
          ]
        }
      ]
    },
    {
      "cell_type": "code",
      "metadata": {
        "id": "a2c04231",
        "outputId": "2b3fa61f-bece-4c0d-beae-bf13a654dcb6"
      },
      "source": [
        "#reciprocal\n",
        "\n",
        "a= np.array([0.25,1.33,1,111])\n",
        "\n",
        "print(a)\n",
        "\n",
        "rec=np.reciprocal(a) \n",
        "print(rec)"
      ],
      "id": "a2c04231",
      "execution_count": null,
      "outputs": [
        {
          "name": "stdout",
          "output_type": "stream",
          "text": [
            "[  0.25   1.33   1.   111.  ]\n",
            "[4.         0.7518797  1.         0.00900901]\n"
          ]
        }
      ]
    },
    {
      "cell_type": "code",
      "metadata": {
        "id": "82733c0d",
        "outputId": "0af698c6-87a9-47da-d863-6631a12ab3e3"
      },
      "source": [
        "a=np.array([10,100,1000])\n",
        "\n",
        "print(a)\n",
        "\n",
        "pow=np.power(a,2)\n",
        "print(\"after ^2 = \", pow)\n",
        "\n",
        "\n",
        "b=np.array([2,3,1])\n",
        "\n",
        "pow1=np.power(a,b)\n",
        "print(\"after b array elements as ^ = \", pow1)\n"
      ],
      "id": "82733c0d",
      "execution_count": null,
      "outputs": [
        {
          "name": "stdout",
          "output_type": "stream",
          "text": [
            "[  10  100 1000]\n",
            "after ^2 =  [    100   10000 1000000]\n",
            "after b array elements as ^ =  [    100 1000000    1000]\n"
          ]
        }
      ]
    },
    {
      "cell_type": "code",
      "metadata": {
        "id": "156df101",
        "outputId": "5939c895-5fde-4879-ccf3-3c597725e8af"
      },
      "source": [
        "a= np.array ([10,20,30])\n",
        "b= np.array ([3,5,7])\n",
        "\n",
        "print(\"values of A=\", a)\n",
        "print(\"values of B=\", b)\n",
        "\n",
        "mm=np.mod(a,b)\n",
        "\n",
        "rm=np.remainder(a,b)\n",
        "\n",
        "print(\"values of MOD=\", mm)\n",
        "print(\"values of REMAINDER=\", rm)\n",
        "\n"
      ],
      "id": "156df101",
      "execution_count": null,
      "outputs": [
        {
          "name": "stdout",
          "output_type": "stream",
          "text": [
            "values of A= [10 20 30]\n",
            "values of B= [3 5 7]\n",
            "values of MOD= [1 0 2]\n",
            "values of REMAINDER= [1 0 2]\n"
          ]
        }
      ]
    },
    {
      "cell_type": "code",
      "metadata": {
        "id": "6d08a918",
        "outputId": "9a92e3b8-4586-46af-b652-17a0a2049c42"
      },
      "source": [
        "a=np.array([-5.6j, 0.2j,11, 1+1j])\n",
        "print(a)\n",
        "\n",
        "print(\"real=\",np.real(a))\n",
        "\n",
        "print(\"imaginary=\",np.imag(a))\n",
        "\n",
        "print(\"Conjugate=\", np.conj(a))"
      ],
      "id": "6d08a918",
      "execution_count": null,
      "outputs": [
        {
          "name": "stdout",
          "output_type": "stream",
          "text": [
            "[-0.-5.6j  0.+0.2j 11.+0.j   1.+1.j ]\n",
            "real= [-0.  0. 11.  1.]\n",
            "imaginary= [-5.6  0.2  0.   1. ]\n",
            "Conjugate= [-0.+5.6j  0.-0.2j 11.-0.j   1.-1.j ]\n"
          ]
        }
      ]
    },
    {
      "cell_type": "code",
      "metadata": {
        "id": "090a4e86",
        "outputId": "8cb64945-9122-43b4-d07b-612c069a7bd7"
      },
      "source": [
        "a=np.array ([1.0,5.3,123,0.56,25.5,32])\n",
        "\n",
        "print(a)\n",
        "\n",
        "print(\"after rounding up=\", np.around(a))\n",
        "\n",
        "print(\"after rounding up to 1st decimal value =\", np.around(a,decimals=1))"
      ],
      "id": "090a4e86",
      "execution_count": null,
      "outputs": [
        {
          "name": "stdout",
          "output_type": "stream",
          "text": [
            "[  1.     5.3  123.     0.56  25.5   32.  ]\n",
            "after rounding up= [  1.   5. 123.   1.  26.  32.]\n",
            "after rounding up to 1st decimal value = [  1.    5.3 123.    0.6  25.5  32. ]\n"
          ]
        }
      ]
    },
    {
      "cell_type": "code",
      "metadata": {
        "id": "cf71e3e5",
        "outputId": "df3ec77e-17f9-41f5-936b-9085eea3e0bf"
      },
      "source": [
        "a=np.array ([1.0,-5.3,123,-0.56,25.5,32])\n",
        "\n",
        "print(a)\n",
        "\n",
        "print('\\n')\n",
        "\n",
        "print(np.floor(a))\n",
        "\n",
        "print(np.ceil(a))"
      ],
      "id": "cf71e3e5",
      "execution_count": null,
      "outputs": [
        {
          "name": "stdout",
          "output_type": "stream",
          "text": [
            "[  1.    -5.3  123.    -0.56  25.5   32.  ]\n",
            "\n",
            "\n",
            "[  1.  -6. 123.  -1.  25.  32.]\n",
            "[  1.  -5. 123.  -0.  26.  32.]\n"
          ]
        }
      ]
    },
    {
      "cell_type": "code",
      "metadata": {
        "id": "00c8249e"
      },
      "source": [
        ""
      ],
      "id": "00c8249e",
      "execution_count": null,
      "outputs": []
    }
  ]
}